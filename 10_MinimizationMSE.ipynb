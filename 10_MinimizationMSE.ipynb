{
 "cells": [
  {
   "cell_type": "code",
   "execution_count": 1,
   "id": "616d011b",
   "metadata": {},
   "outputs": [],
   "source": [
    "import sympy as sp"
   ]
  },
  {
   "cell_type": "code",
   "execution_count": 2,
   "id": "b8cb2c1a",
   "metadata": {},
   "outputs": [],
   "source": [
    "from IPython.display import display, Latex\n",
    "\n",
    "def display_func(s, f):\n",
    "    tex = '$ {} = {} $'.format(s, sp.latex(f))\n",
    "    display(Latex(tex))"
   ]
  },
  {
   "cell_type": "markdown",
   "id": "d857d071",
   "metadata": {},
   "source": [
    "**Линейная функция нескольких переменных** - функция вида:\n",
    "$$\n",
    "f(x) = \\sum\\limits_{i=1}^{n} a_i x_i + a_0 \\quad x = (x_1, x_2, ..., x_n).\n",
    "$$"
   ]
  },
  {
   "cell_type": "markdown",
   "id": "e8b78f35",
   "metadata": {},
   "source": [
    "Графиком функции в $ n + 1 $ - мерном пространстве является $ n $ - мерная гиперплоскость."
   ]
  },
  {
   "cell_type": "code",
   "execution_count": 3,
   "id": "a15f2497",
   "metadata": {},
   "outputs": [],
   "source": [
    "a0, a1, a2 = sp.symbols('a0, a1, a2')\n",
    "x1, x2 = sp.symbols('x1, x2')"
   ]
  },
  {
   "cell_type": "markdown",
   "id": "7dc0d0ad",
   "metadata": {},
   "source": [
    "|Цена дома |Количество этажей |Площадь дома |\n",
    "|:-:      |:-:             |:-:        |\n",
    "|200      |2               |200        |\n",
    "|300      |1               |450        |\n",
    "|600      |3               |550        |\n",
    "|700      |4               |**?**      |"
   ]
  },
  {
   "cell_type": "code",
   "execution_count": 4,
   "id": "180caf10",
   "metadata": {},
   "outputs": [
    {
     "data": {
      "text/latex": [
       "$ f(x2, x1) = a_{0} + a_{1} x_{1} + a_{2} x_{2} $"
      ],
      "text/plain": [
       "<IPython.core.display.Latex object>"
      ]
     },
     "metadata": {},
     "output_type": "display_data"
    }
   ],
   "source": [
    "f = a2*x2 + a1*x1 + a0\n",
    "display_func(\"f(x2, x1)\", f)"
   ]
  },
  {
   "cell_type": "markdown",
   "id": "cf20cfb9",
   "metadata": {},
   "source": [
    "$ f(x_2, x_1) $ - площадь дома, \\\n",
    "$ x_2 $ - цена дома, \\\n",
    "$ x_1 $ - количество этажей"
   ]
  },
  {
   "cell_type": "code",
   "execution_count": 5,
   "id": "5dc94261",
   "metadata": {},
   "outputs": [
    {
     "data": {
      "text/latex": [
       "$ f1 = a_{0} + 2 a_{1} + 200 a_{2} $"
      ],
      "text/plain": [
       "<IPython.core.display.Latex object>"
      ]
     },
     "metadata": {},
     "output_type": "display_data"
    },
    {
     "data": {
      "text/latex": [
       "$ f2 = a_{0} + a_{1} + 300 a_{2} $"
      ],
      "text/plain": [
       "<IPython.core.display.Latex object>"
      ]
     },
     "metadata": {},
     "output_type": "display_data"
    },
    {
     "data": {
      "text/latex": [
       "$ f3 = a_{0} + 3 a_{1} + 600 a_{2} $"
      ],
      "text/plain": [
       "<IPython.core.display.Latex object>"
      ]
     },
     "metadata": {},
     "output_type": "display_data"
    }
   ],
   "source": [
    "f1 = f.subs({x2: 200, x1: 2})\n",
    "f2 = f.subs({x2: 300, x1: 1})\n",
    "f3 = f.subs({x2: 600, x1: 3})\n",
    "display_func(\"f1\", f1)\n",
    "display_func(\"f2\", f2)\n",
    "display_func(\"f3\", f3)"
   ]
  },
  {
   "cell_type": "code",
   "execution_count": 6,
   "id": "ead50278",
   "metadata": {},
   "outputs": [
    {
     "data": {
      "text/latex": [
       "$ MSE = \\frac{\\left(- a_{0} - 3 a_{1} - 600 a_{2} + 550\\right)^{2}}{3} + \\frac{\\left(- a_{0} - 2 a_{1} - 200 a_{2} + 200\\right)^{2}}{3} + \\frac{\\left(- a_{0} - a_{1} - 300 a_{2} + 450\\right)^{2}}{3} $"
      ],
      "text/plain": [
       "<IPython.core.display.Latex object>"
      ]
     },
     "metadata": {},
     "output_type": "display_data"
    }
   ],
   "source": [
    "MSE = 1/3 * ((200 - f1)**2 + (450 - f2)**2 + (550 - f3)**2)\n",
    "MSE = sp.nsimplify(MSE)\n",
    "display_func(\"MSE\", MSE)"
   ]
  },
  {
   "cell_type": "markdown",
   "id": "a965ad4e",
   "metadata": {},
   "source": [
    "находим частные производные"
   ]
  },
  {
   "cell_type": "code",
   "execution_count": 7,
   "id": "906669f9",
   "metadata": {},
   "outputs": [
    {
     "data": {
      "text/latex": [
       "$ MSEa_0 = 2 a_{0} + 4 a_{1} + \\frac{2200 a_{2}}{3} - 800 $"
      ],
      "text/plain": [
       "<IPython.core.display.Latex object>"
      ]
     },
     "metadata": {},
     "output_type": "display_data"
    },
    {
     "data": {
      "text/latex": [
       "$ MSEa_1 = 4 a_{0} + \\frac{28 a_{1}}{3} + \\frac{5000 a_{2}}{3} - \\frac{5000}{3} $"
      ],
      "text/plain": [
       "<IPython.core.display.Latex object>"
      ]
     },
     "metadata": {},
     "output_type": "display_data"
    },
    {
     "data": {
      "text/latex": [
       "$ MSEa_2 = \\frac{2200 a_{0}}{3} + \\frac{5000 a_{1}}{3} + \\frac{980000 a_{2}}{3} - \\frac{1010000}{3} $"
      ],
      "text/plain": [
       "<IPython.core.display.Latex object>"
      ]
     },
     "metadata": {},
     "output_type": "display_data"
    }
   ],
   "source": [
    "MSEa0 = MSE.diff(a0)\n",
    "MSEa1 = MSE.diff(a1)\n",
    "MSEa2 = MSE.diff(a2)\n",
    "display_func(\"MSEa_0\", MSEa0)\n",
    "display_func(\"MSEa_1\", MSEa1)\n",
    "display_func(\"MSEa_2\", MSEa2)"
   ]
  },
  {
   "cell_type": "markdown",
   "id": "9b28adf0",
   "metadata": {},
   "source": [
    "необходимое условие экстремумов - все частные производные должны быть равны нулю"
   ]
  },
  {
   "cell_type": "code",
   "execution_count": 8,
   "id": "6e8719a7",
   "metadata": {},
   "outputs": [
    {
     "data": {
      "text/latex": [
       "$\\displaystyle \\left\\{\\left( 220, \\  -130, \\  \\frac{6}{5}\\right)\\right\\}$"
      ],
      "text/plain": [
       "{(220, -130, 6/5)}"
      ]
     },
     "execution_count": 8,
     "metadata": {},
     "output_type": "execute_result"
    }
   ],
   "source": [
    "points = sp.linsolve([MSEa0, MSEa1, MSEa2], [a0, a1, a2])\n",
    "points"
   ]
  },
  {
   "cell_type": "code",
   "execution_count": 9,
   "id": "7f524acd",
   "metadata": {},
   "outputs": [
    {
     "data": {
      "text/latex": [
       "$\\displaystyle 0$"
      ],
      "text/plain": [
       "0"
      ]
     },
     "execution_count": 9,
     "metadata": {},
     "output_type": "execute_result"
    }
   ],
   "source": [
    "MSE.subs({a0: points.args[0][0], a1: points.args[0][1], a2: points.args[0][2]})"
   ]
  },
  {
   "cell_type": "code",
   "execution_count": 10,
   "id": "17141ebd",
   "metadata": {},
   "outputs": [
    {
     "data": {
      "text/latex": [
       "$ f(x2, x1) = - 130 x_{1} + \\frac{6 x_{2}}{5} + 220 $"
      ],
      "text/plain": [
       "<IPython.core.display.Latex object>"
      ]
     },
     "metadata": {},
     "output_type": "display_data"
    }
   ],
   "source": [
    "f = f.subs({a0: points.args[0][0], a1: points.args[0][1], a2: points.args[0][2]})\n",
    "display_func(\"f(x2, x1)\", f)"
   ]
  },
  {
   "cell_type": "code",
   "execution_count": 11,
   "id": "a3675f2d",
   "metadata": {},
   "outputs": [
    {
     "data": {
      "text/latex": [
       "$\\displaystyle 540.0$"
      ],
      "text/plain": [
       "540.000000000000"
      ]
     },
     "execution_count": 11,
     "metadata": {},
     "output_type": "execute_result"
    }
   ],
   "source": [
    "f.subs({x2: 700, x1: 4}).evalf()"
   ]
  },
  {
   "cell_type": "markdown",
   "id": "935008c8",
   "metadata": {},
   "source": [
    "---\n",
    "---\n",
    "---"
   ]
  },
  {
   "cell_type": "markdown",
   "id": "c0f427f7",
   "metadata": {},
   "source": [
    "$$\n",
    "\\begin{cases}\n",
    "    5 x + 7 y - 5 z = -47 \\\\\n",
    "    -2 y + 2 z = 10 \\\\\n",
    "    -4 x - 8 y - 7 z = 63 \\\\\n",
    "    x + y + 2 z = -1 \\\\\n",
    "    2 x - y + 2 z = -4 \\\\\n",
    "    4 x + y + 4 z = -2\n",
    "\\end{cases}\n",
    "$$"
   ]
  },
  {
   "cell_type": "code",
   "execution_count": 12,
   "id": "5518e72b",
   "metadata": {},
   "outputs": [
    {
     "data": {
      "text/latex": [
       "$ f(a1, a2, a3) = a_{1} x + a_{2} y + a_{3} z $"
      ],
      "text/plain": [
       "<IPython.core.display.Latex object>"
      ]
     },
     "metadata": {},
     "output_type": "display_data"
    }
   ],
   "source": [
    "a1, a2, a3 = sp.symbols('a1, a2, a3')\n",
    "x, y, z = sp.symbols('x, y, z')\n",
    "f = a1*x + a2*y + a3*z\n",
    "display_func(\"f(a1, a2, a3)\", f)"
   ]
  },
  {
   "cell_type": "code",
   "execution_count": 13,
   "id": "169616a4",
   "metadata": {},
   "outputs": [
    {
     "data": {
      "text/latex": [
       "$ f1 = 5 x + 7 y - 5 z $"
      ],
      "text/plain": [
       "<IPython.core.display.Latex object>"
      ]
     },
     "metadata": {},
     "output_type": "display_data"
    },
    {
     "data": {
      "text/latex": [
       "$ f2 = - 2 y + 2 z $"
      ],
      "text/plain": [
       "<IPython.core.display.Latex object>"
      ]
     },
     "metadata": {},
     "output_type": "display_data"
    },
    {
     "data": {
      "text/latex": [
       "$ f3 = - 4 x - 8 y - 7 z $"
      ],
      "text/plain": [
       "<IPython.core.display.Latex object>"
      ]
     },
     "metadata": {},
     "output_type": "display_data"
    },
    {
     "data": {
      "text/latex": [
       "$ f4 = x + y + 2 z $"
      ],
      "text/plain": [
       "<IPython.core.display.Latex object>"
      ]
     },
     "metadata": {},
     "output_type": "display_data"
    },
    {
     "data": {
      "text/latex": [
       "$ f5 = 2 x - y + 2 z $"
      ],
      "text/plain": [
       "<IPython.core.display.Latex object>"
      ]
     },
     "metadata": {},
     "output_type": "display_data"
    },
    {
     "data": {
      "text/latex": [
       "$ f6 = 4 x + y + 4 z $"
      ],
      "text/plain": [
       "<IPython.core.display.Latex object>"
      ]
     },
     "metadata": {},
     "output_type": "display_data"
    }
   ],
   "source": [
    "f1 = f.subs({a1: 5, a2: 7, a3: -5})\n",
    "f2 = f.subs({a1: 0, a2: -2, a3: 2})\n",
    "f3 = f.subs({a1: -4, a2: -8, a3: -7})\n",
    "f4 = f.subs({a1: 1, a2: 1, a3: 2})\n",
    "f5 = f.subs({a1: 2, a2: -1, a3: 2})\n",
    "f6 = f.subs({a1: 4, a2: 1, a3: 4})\n",
    "display_func(\"f1\", f1)\n",
    "display_func(\"f2\", f2)\n",
    "display_func(\"f3\", f3)\n",
    "display_func(\"f4\", f4)\n",
    "display_func(\"f5\", f5)\n",
    "display_func(\"f6\", f6)"
   ]
  },
  {
   "cell_type": "code",
   "execution_count": 14,
   "id": "e89efbd4",
   "metadata": {},
   "outputs": [
    {
     "data": {
      "text/latex": [
       "$ MSE = \\frac{\\left(2 y - 2 z + 10\\right)^{2}}{6} + \\frac{\\left(- 5 x - 7 y + 5 z - 47\\right)^{2}}{6} + \\frac{\\left(- 4 x - y - 4 z - 2\\right)^{2}}{6} + \\frac{\\left(- 2 x + y - 2 z - 4\\right)^{2}}{6} + \\frac{\\left(- x - y - 2 z - 1\\right)^{2}}{6} + \\frac{\\left(4 x + 8 y + 7 z + 63\\right)^{2}}{6} $"
      ],
      "text/plain": [
       "<IPython.core.display.Latex object>"
      ]
     },
     "metadata": {},
     "output_type": "display_data"
    }
   ],
   "source": [
    "MSE = 1/6 * ((-47 - f1)**2 + (10 - f2)**2 + (63 - f3)**2 + (-1 - f4)**2 + (-4 - f5)**2 + (-2 - f6)**2)\n",
    "MSE = sp.nsimplify(MSE)\n",
    "display_func(\"MSE\", MSE)"
   ]
  },
  {
   "cell_type": "code",
   "execution_count": 15,
   "id": "e3b7f7b1",
   "metadata": {},
   "outputs": [
    {
     "data": {
      "text/latex": [
       "$ MSE'_x = \\frac{62 x}{3} + \\frac{70 y}{3} + \\frac{25 z}{3} + 168 $"
      ],
      "text/plain": [
       "<IPython.core.display.Latex object>"
      ]
     },
     "metadata": {},
     "output_type": "display_data"
    },
    {
     "data": {
      "text/latex": [
       "$ MSE'_y = \\frac{70 x}{3} + 40 y + 7 z + 284 $"
      ],
      "text/plain": [
       "<IPython.core.display.Latex object>"
      ]
     },
     "metadata": {},
     "output_type": "display_data"
    },
    {
     "data": {
      "text/latex": [
       "$ MSE'_z = \\frac{25 x}{3} + 7 y + 34 z + 68 $"
      ],
      "text/plain": [
       "<IPython.core.display.Latex object>"
      ]
     },
     "metadata": {},
     "output_type": "display_data"
    }
   ],
   "source": [
    "MSEx = MSE.diff(x)\n",
    "MSEy = MSE.diff(y)\n",
    "MSEz = MSE.diff(z)\n",
    "display_func(\"MSE'_x\", MSEx)\n",
    "display_func(\"MSE'_y\", MSEy)\n",
    "display_func(\"MSE'_z\", MSEz)"
   ]
  },
  {
   "cell_type": "code",
   "execution_count": 16,
   "id": "0aa31bb6",
   "metadata": {},
   "outputs": [
    {
     "data": {
      "text/latex": [
       "$\\displaystyle \\left\\{\\left( \\frac{78}{12791}, \\  - \\frac{89610}{12791}, \\  - \\frac{7152}{12791}\\right)\\right\\}$"
      ],
      "text/plain": [
       "{(78/12791, -89610/12791, -7152/12791)}"
      ]
     },
     "execution_count": 16,
     "metadata": {},
     "output_type": "execute_result"
    }
   ],
   "source": [
    "point = sp.linsolve([MSEx, MSEy, MSEz], [x, y, z])\n",
    "point"
   ]
  },
  {
   "cell_type": "code",
   "execution_count": 17,
   "id": "ab093cd9",
   "metadata": {},
   "outputs": [
    {
     "data": {
      "text/latex": [
       "$\\displaystyle 36.5242879107706$"
      ],
      "text/plain": [
       "36.5242879107706"
      ]
     },
     "execution_count": 17,
     "metadata": {},
     "output_type": "execute_result"
    }
   ],
   "source": [
    "MSE.subs({x: point.args[0][0], y: point.args[0][1], z: point.args[0][2]}).evalf()"
   ]
  },
  {
   "cell_type": "code",
   "execution_count": 18,
   "id": "2c32ce0f",
   "metadata": {},
   "outputs": [
    {
     "data": {
      "text/latex": [
       "$ x = 0.006098 $"
      ],
      "text/plain": [
       "<IPython.core.display.Latex object>"
      ]
     },
     "metadata": {},
     "output_type": "display_data"
    },
    {
     "data": {
      "text/latex": [
       "$ y = -7.006 $"
      ],
      "text/plain": [
       "<IPython.core.display.Latex object>"
      ]
     },
     "metadata": {},
     "output_type": "display_data"
    },
    {
     "data": {
      "text/latex": [
       "$ z = -0.5591 $"
      ],
      "text/plain": [
       "<IPython.core.display.Latex object>"
      ]
     },
     "metadata": {},
     "output_type": "display_data"
    }
   ],
   "source": [
    "display_func(\"x\", point.args[0][0].evalf(4))\n",
    "display_func(\"y\", point.args[0][1].evalf(4))\n",
    "display_func(\"z\", point.args[0][2].evalf(4))"
   ]
  },
  {
   "cell_type": "markdown",
   "id": "f29fc314",
   "metadata": {},
   "source": [
    "---\n",
    "---\n",
    "---"
   ]
  },
  {
   "cell_type": "code",
   "execution_count": null,
   "id": "6a743f23",
   "metadata": {},
   "outputs": [],
   "source": []
  }
 ],
 "metadata": {
  "kernelspec": {
   "display_name": "Python 3 (ipykernel)",
   "language": "python",
   "name": "python3"
  },
  "language_info": {
   "codemirror_mode": {
    "name": "ipython",
    "version": 3
   },
   "file_extension": ".py",
   "mimetype": "text/x-python",
   "name": "python",
   "nbconvert_exporter": "python",
   "pygments_lexer": "ipython3",
   "version": "3.9.7"
  }
 },
 "nbformat": 4,
 "nbformat_minor": 5
}
