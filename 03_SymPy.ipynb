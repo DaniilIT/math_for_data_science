{
 "cells": [
  {
   "cell_type": "code",
   "execution_count": 1,
   "id": "590aab4d",
   "metadata": {},
   "outputs": [],
   "source": [
    "import sympy as sp\n",
    "from sympy.plotting import plot"
   ]
  },
  {
   "cell_type": "markdown",
   "id": "1606c105",
   "metadata": {},
   "source": [
    "это библиотека для выполнения символьных вычислений"
   ]
  },
  {
   "cell_type": "code",
   "execution_count": 2,
   "id": "f62b26f9",
   "metadata": {},
   "outputs": [],
   "source": [
    "# sp.init_printing(use_unicode=False, wrap_line=False, no_global=True)"
   ]
  },
  {
   "cell_type": "markdown",
   "id": "be62788c",
   "metadata": {},
   "source": [
    "создать переменные (символы)"
   ]
  },
  {
   "cell_type": "code",
   "execution_count": 3,
   "id": "6728f1b5",
   "metadata": {},
   "outputs": [
    {
     "data": {
      "text/latex": [
       "$\\displaystyle \\frac{x^{2}}{2}$"
      ],
      "text/plain": [
       "x**2/2"
      ]
     },
     "execution_count": 3,
     "metadata": {},
     "output_type": "execute_result"
    }
   ],
   "source": [
    "x = sp.Symbol('x')\n",
    "f = x**2 / 2\n",
    "f"
   ]
  },
  {
   "cell_type": "code",
   "execution_count": 4,
   "id": "17d996e1",
   "metadata": {},
   "outputs": [
    {
     "data": {
      "text/latex": [
       "$\\displaystyle \\left(a + b\\right)^{2}$"
      ],
      "text/plain": [
       "(a + b)**2"
      ]
     },
     "execution_count": 4,
     "metadata": {},
     "output_type": "execute_result"
    }
   ],
   "source": [
    "a, b = sp.symbols('a, b')\n",
    "(a + b)**2"
   ]
  },
  {
   "cell_type": "markdown",
   "id": "88808670",
   "metadata": {},
   "source": [
    "создать выражение"
   ]
  },
  {
   "cell_type": "code",
   "execution_count": 5,
   "id": "2e3b64e2",
   "metadata": {},
   "outputs": [
    {
     "data": {
      "text/latex": [
       "$\\displaystyle \\frac{a^{2} - b^{2}}{a^{2} + 2 a b + b^{2}}$"
      ],
      "text/plain": [
       "(a**2 - b**2)/(a**2 + 2*a*b + b**2)"
      ]
     },
     "execution_count": 5,
     "metadata": {},
     "output_type": "execute_result"
    }
   ],
   "source": [
    "expression = (a**2 - b**2) / (a**2 + 2*a*b + b**2)\n",
    "expression"
   ]
  },
  {
   "cell_type": "markdown",
   "id": "4c2ed349",
   "metadata": {},
   "source": [
    "упростить выражение"
   ]
  },
  {
   "cell_type": "code",
   "execution_count": 6,
   "id": "792a6219",
   "metadata": {},
   "outputs": [
    {
     "data": {
      "text/latex": [
       "$\\displaystyle \\frac{a - b}{a + b}$"
      ],
      "text/plain": [
       "(a - b)/(a + b)"
      ]
     },
     "execution_count": 6,
     "metadata": {},
     "output_type": "execute_result"
    }
   ],
   "source": [
    "expression = sp.simplify(expression)\n",
    "expression"
   ]
  },
  {
   "cell_type": "markdown",
   "id": "1f9cec79",
   "metadata": {},
   "source": [
    "решить выражение"
   ]
  },
  {
   "cell_type": "code",
   "execution_count": 7,
   "id": "111b6902",
   "metadata": {},
   "outputs": [
    {
     "data": {
      "text/latex": [
       "$\\displaystyle \\frac{1}{2}$"
      ],
      "text/plain": [
       "1/2"
      ]
     },
     "execution_count": 7,
     "metadata": {},
     "output_type": "execute_result"
    }
   ],
   "source": [
    "expression.subs({a:3, b:1})"
   ]
  },
  {
   "cell_type": "code",
   "execution_count": 8,
   "id": "dbe401bd",
   "metadata": {},
   "outputs": [
    {
     "data": {
      "text/latex": [
       "$\\displaystyle \\frac{9}{2}$"
      ],
      "text/plain": [
       "9/2"
      ]
     },
     "execution_count": 8,
     "metadata": {},
     "output_type": "execute_result"
    }
   ],
   "source": [
    "y = f.subs(x, 3)\n",
    "y"
   ]
  },
  {
   "cell_type": "markdown",
   "id": "7293ea0a",
   "metadata": {},
   "source": [
    "оценить числовое выражение"
   ]
  },
  {
   "cell_type": "code",
   "execution_count": 9,
   "id": "e00ed3db",
   "metadata": {},
   "outputs": [
    {
     "data": {
      "text/latex": [
       "$\\displaystyle 4.5$"
      ],
      "text/plain": [
       "4.50000000000000"
      ]
     },
     "execution_count": 9,
     "metadata": {},
     "output_type": "execute_result"
    }
   ],
   "source": [
    "y.evalf()"
   ]
  },
  {
   "cell_type": "markdown",
   "id": "bda47d73",
   "metadata": {},
   "source": [
    "---"
   ]
  },
  {
   "cell_type": "markdown",
   "id": "e1b50541",
   "metadata": {},
   "source": [
    "экспонента - показательная функция: $ f(x) = e^x $, где $ e $ число Эйлера"
   ]
  },
  {
   "cell_type": "markdown",
   "id": "9c8d24f8",
   "metadata": {},
   "source": [
    "$$\n",
    "e = \\lim_{n \\to \\infty}(1 + \\frac{1}{n})^n = \\sum\\limits_{n=0}^{\\infty} \\frac{1}{n!} \\approx 2.7\n",
    "$$"
   ]
  },
  {
   "cell_type": "code",
   "execution_count": 10,
   "id": "3c81e478",
   "metadata": {},
   "outputs": [
    {
     "data": {
      "text/latex": [
       "$\\displaystyle e^{x}$"
      ],
      "text/plain": [
       "exp(x)"
      ]
     },
     "execution_count": 10,
     "metadata": {},
     "output_type": "execute_result"
    }
   ],
   "source": [
    "f = sp.exp(x)\n",
    "f"
   ]
  },
  {
   "cell_type": "code",
   "execution_count": 11,
   "id": "3a789550",
   "metadata": {},
   "outputs": [
    {
     "data": {
      "image/png": "[encoded data removed]",
      "text/plain": [
       "<Figure size 432x288 with 1 Axes>"
      ]
     },
     "metadata": {
      "needs_background": "light"
     },
     "output_type": "display_data"
    }
   ],
   "source": [
    "plot(f, (x, -2, 4));"
   ]
  },
  {
   "cell_type": "markdown",
   "id": "074d0c6e",
   "metadata": {},
   "source": [
    "---"
   ]
  },
  {
   "cell_type": "code",
   "execution_count": 12,
   "id": "8ac57f9a",
   "metadata": {},
   "outputs": [
    {
     "data": {
      "text/latex": [
       "$\\displaystyle \\sqrt{x}$"
      ],
      "text/plain": [
       "sqrt(x)"
      ]
     },
     "execution_count": 12,
     "metadata": {},
     "output_type": "execute_result"
    }
   ],
   "source": [
    "f = sp.sqrt(x)\n",
    "f"
   ]
  },
  {
   "cell_type": "code",
   "execution_count": 13,
   "id": "5b9d756c",
   "metadata": {},
   "outputs": [
    {
     "data": {
      "image/png": "[encoded data removed]",
      "text/plain": [
       "<Figure size 432x288 with 1 Axes>"
      ]
     },
     "metadata": {
      "needs_background": "light"
     },
     "output_type": "display_data"
    }
   ],
   "source": [
    "plot(f, (x, 0, 10));"
   ]
  },
  {
   "cell_type": "markdown",
   "id": "e4f49e77",
   "metadata": {},
   "source": [
    "---"
   ]
  },
  {
   "cell_type": "code",
   "execution_count": 14,
   "id": "a884882f",
   "metadata": {},
   "outputs": [
    {
     "data": {
      "text/latex": [
       "$\\displaystyle \\log{\\left(x \\right)}$"
      ],
      "text/plain": [
       "log(x)"
      ]
     },
     "execution_count": 14,
     "metadata": {},
     "output_type": "execute_result"
    }
   ],
   "source": [
    "f = sp.log(x)\n",
    "f"
   ]
  },
  {
   "cell_type": "code",
   "execution_count": 15,
   "id": "8b26ac58",
   "metadata": {},
   "outputs": [
    {
     "data": {
      "image/png": "[encoded data removed]",
      "text/plain": [
       "<Figure size 432x288 with 1 Axes>"
      ]
     },
     "metadata": {
      "needs_background": "light"
     },
     "output_type": "display_data"
    }
   ],
   "source": [
    "plot(f, (x, 0.01, 10));"
   ]
  },
  {
   "cell_type": "markdown",
   "id": "2cf1ee26",
   "metadata": {},
   "source": [
    "---"
   ]
  },
  {
   "cell_type": "code",
   "execution_count": 16,
   "id": "a3ea656b",
   "metadata": {},
   "outputs": [
    {
     "data": {
      "text/latex": [
       "$\\displaystyle x^{2} + 3 x - 4$"
      ],
      "text/plain": [
       "x**2 + 3*x - 4"
      ]
     },
     "execution_count": 16,
     "metadata": {},
     "output_type": "execute_result"
    }
   ],
   "source": [
    "f = x**2 + 3*x - 4\n",
    "f"
   ]
  },
  {
   "cell_type": "code",
   "execution_count": 17,
   "id": "41f03799",
   "metadata": {},
   "outputs": [
    {
     "data": {
      "image/png": "[encoded data removed]",
      "text/plain": [
       "<Figure size 432x288 with 1 Axes>"
      ]
     },
     "metadata": {
      "needs_background": "light"
     },
     "output_type": "display_data"
    }
   ],
   "source": [
    "plot(f, (x, -5, 2));"
   ]
  },
  {
   "cell_type": "markdown",
   "id": "a51dd306",
   "metadata": {},
   "source": [
    "найти нули функции"
   ]
  },
  {
   "cell_type": "code",
   "execution_count": 18,
   "id": "5561d6bb",
   "metadata": {},
   "outputs": [
    {
     "data": {
      "text/plain": [
       "[-4, 1]"
      ]
     },
     "execution_count": 18,
     "metadata": {},
     "output_type": "execute_result"
    }
   ],
   "source": [
    "roots = sp.solve(f)\n",
    "roots"
   ]
  },
  {
   "cell_type": "markdown",
   "id": "1fd8d0ac",
   "metadata": {},
   "source": [
    "найти области знакопостоянства"
   ]
  },
  {
   "cell_type": "code",
   "execution_count": 19,
   "id": "bbc06a12",
   "metadata": {},
   "outputs": [
    {
     "data": {
      "text/latex": [
       "$\\displaystyle \\left(-\\infty < x \\wedge x < -4\\right) \\vee \\left(1 < x \\wedge x < \\infty\\right)$"
      ],
      "text/plain": [
       "((-oo < x) & (x < -4)) | ((1 < x) & (x < oo))"
      ]
     },
     "execution_count": 19,
     "metadata": {},
     "output_type": "execute_result"
    }
   ],
   "source": [
    "sp.solve_univariate_inequality(f>0, x)"
   ]
  },
  {
   "cell_type": "markdown",
   "id": "383ee97a",
   "metadata": {},
   "source": [
    "найти точку экстремума гиперболы"
   ]
  },
  {
   "cell_type": "code",
   "execution_count": 20,
   "id": "8e3372d7",
   "metadata": {},
   "outputs": [
    {
     "name": "stdout",
     "output_type": "stream",
     "text": [
      "(-1.5, -6.25)\n"
     ]
    }
   ],
   "source": [
    "x0 = (sum(roots) / 2).evalf(2)\n",
    "y0 = f.subs(x, x0).evalf(3)\n",
    "print(f'({x0}, {y0})')"
   ]
  },
  {
   "cell_type": "markdown",
   "id": "041c6a13",
   "metadata": {},
   "source": [
    "---\n",
    "---\n",
    "---"
   ]
  },
  {
   "cell_type": "code",
   "execution_count": null,
   "id": "fb5471f3",
   "metadata": {},
   "outputs": [],
   "source": []
  }
 ],
 "metadata": {
  "kernelspec": {
   "display_name": "Python 3 (ipykernel)",
   "language": "python",
   "name": "python3"
  },
  "language_info": {
   "codemirror_mode": {
    "name": "ipython",
    "version": 3
   },
   "file_extension": ".py",
   "mimetype": "text/x-python",
   "name": "python",
   "nbconvert_exporter": "python",
   "pygments_lexer": "ipython3",
   "version": "3.9.7"
  }
 },
 "nbformat": 4,
 "nbformat_minor": 5
}
