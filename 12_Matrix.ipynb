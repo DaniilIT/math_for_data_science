{
 "cells": [
  {
   "cell_type": "code",
   "execution_count": 1,
   "id": "5406ac4a",
   "metadata": {},
   "outputs": [],
   "source": [
    "import numpy as np\n",
    "import sympy as sp"
   ]
  },
  {
   "cell_type": "code",
   "execution_count": 2,
   "id": "3a1f05a6",
   "metadata": {},
   "outputs": [],
   "source": [
    "from IPython.display import display, Latex\n",
    "\n",
    "def display_func(s, f):\n",
    "    tex = '$ {} = {} $'.format(s, sp.latex(f))\n",
    "    display(Latex(tex))"
   ]
  },
  {
   "cell_type": "markdown",
   "id": "579081dd",
   "metadata": {},
   "source": [
    "**Транспонированная матрица** ($ A^T $) — матрица, полученная из исходной матрицы $ A $ заменой строк на столбцы."
   ]
  },
  {
   "cell_type": "markdown",
   "id": "aecb8778",
   "metadata": {},
   "source": [
    "$$\n",
    "B = A^T, \\quad \\text{где} \\, b_{ij} = a_{ji}\n",
    "$$"
   ]
  },
  {
   "cell_type": "markdown",
   "id": "a9f54d52",
   "metadata": {},
   "source": [
    "$$\n",
    "\\begin{pmatrix}\n",
    "    a_{11} & a_{12} & a_{13} \\\\\n",
    "    a_{21} & a_{22} & a_{23} \\\\\n",
    "    a_{31} & a_{32} & a_{33}\n",
    "\\end{pmatrix}^T\n",
    "=\n",
    "\\begin{pmatrix}\n",
    "    a_{11} & a_{21} & a_{31} \\\\\n",
    "    a_{12} & a_{22} & a_{32} \\\\\n",
    "    a_{13} & a_{23} & a_{33}\n",
    "\\end{pmatrix}\n",
    "$$"
   ]
  },
  {
   "cell_type": "code",
   "execution_count": 3,
   "id": "0a6e108a",
   "metadata": {},
   "outputs": [
    {
     "name": "stdout",
     "output_type": "stream",
     "text": [
      "[[1 2]\n",
      " [3 4]\n",
      " [5 6]]\n",
      "\n",
      "[[1 3 5]\n",
      " [2 4 6]]\n"
     ]
    }
   ],
   "source": [
    "A = np.array([[1, 2], [3, 4], [5, 6]])\n",
    "print(A, end='\\n\\n')\n",
    "print(A.transpose()) # A.T"
   ]
  },
  {
   "cell_type": "markdown",
   "id": "f7517d05",
   "metadata": {},
   "source": [
    "---"
   ]
  },
  {
   "cell_type": "code",
   "execution_count": 4,
   "id": "e6670048",
   "metadata": {},
   "outputs": [],
   "source": [
    "x, y = sp.symbols('x, y')\n",
    "eq1 = x - 3 * y - 11\n",
    "eq2 = 4 * x + 5 * y + 7"
   ]
  },
  {
   "cell_type": "code",
   "execution_count": 5,
   "id": "cc153fba",
   "metadata": {},
   "outputs": [
    {
     "data": {
      "text/latex": [
       "$\\displaystyle \\left\\{\\left( 2, \\  -3\\right)\\right\\}$"
      ],
      "text/plain": [
       "{(2, -3)}"
      ]
     },
     "execution_count": 5,
     "metadata": {},
     "output_type": "execute_result"
    }
   ],
   "source": [
    "sp.linsolve([eq1, eq2], [x, y])"
   ]
  },
  {
   "cell_type": "markdown",
   "id": "f52ad06b",
   "metadata": {},
   "source": [
    "**СЛАУ**\n",
    "$$\n",
    "\\begin{cases}\n",
    "    x - 3 y = 11 \\\\\n",
    "    4 x + 5 y = -7\n",
    "\\end{cases}\n",
    "$$"
   ]
  },
  {
   "cell_type": "markdown",
   "id": "7b3c3f71",
   "metadata": {},
   "source": [
    "$$\n",
    "\\begin{pmatrix}\n",
    "    1 & -3 \\\\\n",
    "    4 & 5\n",
    "\\end{pmatrix}\n",
    "\\begin{pmatrix}\n",
    "    x \\\\\n",
    "    y\n",
    "\\end{pmatrix}\n",
    "=\n",
    "\\begin{pmatrix}\n",
    "    11 \\\\\n",
    "    -7\n",
    "\\end{pmatrix}\n",
    "$$"
   ]
  },
  {
   "cell_type": "markdown",
   "id": "887a57b9",
   "metadata": {},
   "source": [
    "$$\n",
    "X \\vec{a} = \\vec{b}\n",
    "$$"
   ]
  },
  {
   "cell_type": "markdown",
   "id": "d23bf59c",
   "metadata": {},
   "source": [
    "$ X^{-1} X = X X^{-1} = E $"
   ]
  },
  {
   "cell_type": "markdown",
   "id": "061c4caf",
   "metadata": {},
   "source": [
    "$ E \\vec{a} = \\vec{a} $"
   ]
  },
  {
   "cell_type": "markdown",
   "id": "1553f6f7",
   "metadata": {},
   "source": [
    "**Единичная матрица** ($ E $) — квадратная матрица, элементы главной диагонали которой равны единицам, а остальные равны нулю."
   ]
  },
  {
   "cell_type": "markdown",
   "id": "7f2bc71c",
   "metadata": {},
   "source": [
    "$$\n",
    "E =\n",
    "\\begin{pmatrix}\n",
    "    1 & 0 & ... & 0 \\\\\n",
    "    0 & 1 & ... & 0 \\\\\n",
    "    . & . & ... & . \\\\\n",
    "    0 & 0 & ... & 1 \\\\\n",
    "\\end{pmatrix}\n",
    "$$"
   ]
  },
  {
   "cell_type": "markdown",
   "id": "fed103c1",
   "metadata": {},
   "source": [
    "$$\n",
    "\\vec{a} = X^{-1} \\vec{b}\n",
    "$$"
   ]
  },
  {
   "cell_type": "markdown",
   "id": "68a366ce",
   "metadata": {},
   "source": [
    "**Обратная матрица**\n",
    "$$\n",
    "A^{-1} = \\frac{1}{\\det(A)}A_+^T\n",
    "$$"
   ]
  },
  {
   "cell_type": "markdown",
   "id": "d715f2af",
   "metadata": {},
   "source": [
    "$$\n",
    "A =\n",
    "\\begin{pmatrix}\n",
    "    a_{11} & a_{12} & a_{13} \\\\\n",
    "    a_{21} & a_{22} & a_{23} \\\\\n",
    "    a_{31} & a_{32} & a_{33}\n",
    "\\end{pmatrix}\n",
    "$$"
   ]
  },
  {
   "cell_type": "markdown",
   "id": "4e8d0edb",
   "metadata": {},
   "source": [
    "**Матрица алгебраических дополнений**\n",
    "$$\n",
    "A_+ =\n",
    "\\begin{pmatrix}\n",
    "    A_{11} & A_{12} & A_{13} \\\\\n",
    "    A_{21} & A_{22} & A_{23} \\\\\n",
    "    A_{31} & A_{32} & A_{33}\n",
    "\\end{pmatrix}\n",
    "$$\n",
    "где $ A_{ij} = (-1)^{i+j} M_{ij} $ - алгебраическое дополнение к $ a_{ij} $ \\\n",
    "где $ M_{ij} $ - минор к $ a_{ij} $, то есть определитель матрицы, полученной вычеркиванием $ i $ строчки и $ j $ столбца."
   ]
  },
  {
   "cell_type": "markdown",
   "id": "af467ccf",
   "metadata": {},
   "source": [
    "**Определитель матрицы (determinant)** - \n",
    "$$ \\det(A) = |A| = \\sum\\limits_{j=1}^{n} a_{ij }A_{ij} = \\sum\\limits_{j=1}^{n} (-1)^{i+j} a_{ij} M_{ij} = \\det(A^T) $$"
   ]
  },
  {
   "cell_type": "markdown",
   "id": "d306d166",
   "metadata": {},
   "source": [
    "$$\n",
    "\\det(A) = a_{11}\\begin{vmatrix}a_{22} & a_{23} \\\\a_{32} & a_{33}\\end{vmatrix} -\n",
    "          a_{12}\\begin{vmatrix}a_{21} & a_{23} \\\\a_{31} & a_{33}\\end{vmatrix} +\n",
    "          a_{13}\\begin{vmatrix}a_{21} & a_{22} \\\\a_{31} & a_{32}\\end{vmatrix} = \\\n",
    "          a_{11}(a_{22}a_{33} - a_{23}a_{32}) -\n",
    "          a_{12}(a_{21}a_{33} - a_{23}a_{31}) +\n",
    "          a_{13}(a_{21}a_{32} - a_{22}a_{31})\n",
    "$$"
   ]
  },
  {
   "cell_type": "markdown",
   "id": "2c4a2911",
   "metadata": {},
   "source": [
    "Определитель существует только у квадратных матриц"
   ]
  },
  {
   "cell_type": "markdown",
   "id": "7daa5feb",
   "metadata": {},
   "source": [
    "**вырожденная матрица** - квадратная матрица, у которой определитель равен нулю."
   ]
  },
  {
   "cell_type": "markdown",
   "id": "ecaccdb1",
   "metadata": {},
   "source": [
    "Обратная матрица существует только у квадратной *невырожденной* (определитель не равен нулю) матрицы!"
   ]
  },
  {
   "cell_type": "markdown",
   "id": "d07daee2",
   "metadata": {},
   "source": [
    "Обратную матрицу можно найти и методом Гаусса, приписав справа единичную матрицу \\\n",
    "и преобразованиями получив слева единичную, после чего справа получится искомая."
   ]
  },
  {
   "cell_type": "markdown",
   "id": "6089f198",
   "metadata": {},
   "source": [
    "Если $ A^T A = A A^T = E $, то есть $ A^T = A^{-1} $, то матрица A *ортогональная*."
   ]
  },
  {
   "cell_type": "markdown",
   "id": "4920dd3e",
   "metadata": {},
   "source": [
    "---"
   ]
  },
  {
   "cell_type": "markdown",
   "id": "4909c271",
   "metadata": {},
   "source": [
    "для матрицы размером $ 2 \\times 2 $:\n",
    "$$\n",
    "A =\n",
    "\\begin{pmatrix}\n",
    "    a & b \\\\\n",
    "    c & d\n",
    "\\end{pmatrix}\n",
    "$$"
   ]
  },
  {
   "cell_type": "markdown",
   "id": "f4a3e83a",
   "metadata": {},
   "source": [
    "$$\n",
    "A_+ =\n",
    "\\begin{pmatrix}\n",
    "    d & -c \\\\\n",
    "    -b & a\n",
    "\\end{pmatrix}\n",
    "$$"
   ]
  },
  {
   "cell_type": "markdown",
   "id": "b21c3609",
   "metadata": {},
   "source": [
    "$$\n",
    "\\det(A) = |A| = a d - b c\n",
    "$$"
   ]
  },
  {
   "cell_type": "markdown",
   "id": "682957f6",
   "metadata": {},
   "source": [
    "$$\n",
    "A^{-1} = \\frac{1}{a d - b c}\n",
    "\\begin{pmatrix}\n",
    "    d & -b \\\\\n",
    "    -c & a\n",
    "\\end{pmatrix}\n",
    "$$"
   ]
  },
  {
   "cell_type": "markdown",
   "id": "4d3fcb09",
   "metadata": {},
   "source": [
    "---\n",
    "---\n",
    "---"
   ]
  },
  {
   "cell_type": "markdown",
   "id": "b0f35635",
   "metadata": {},
   "source": [
    "Для *любой* матрицы существует **псевдообратная матрица**:\n",
    "$$\n",
    "X^{\\sim1} = (X^T X)^{-1} X^T\n",
    "$$"
   ]
  },
  {
   "cell_type": "markdown",
   "id": "f906254d",
   "metadata": {},
   "source": [
    "**Переопределенное СЛАУ**\n",
    "$$\n",
    "\\begin{cases}\n",
    "    5 x + 7 y - 5 z = -47 \\\\\n",
    "    -2 y + 2 z = 10 \\\\\n",
    "    -4 x - 8 y - 7 z = 63 \\\\\n",
    "    x + y + 2 z = -1 \\\\\n",
    "    2 x - y + 2 z = -4 \\\\\n",
    "    4 x + y + 4 z = -2\n",
    "\\end{cases}\n",
    "$$"
   ]
  },
  {
   "cell_type": "code",
   "execution_count": 6,
   "id": "6cc127b0",
   "metadata": {},
   "outputs": [
    {
     "data": {
      "text/latex": [
       "$ f(a1, a2, a3) = a_{1} x + a_{2} y + a_{3} z $"
      ],
      "text/plain": [
       "<IPython.core.display.Latex object>"
      ]
     },
     "metadata": {},
     "output_type": "display_data"
    }
   ],
   "source": [
    "a1, a2, a3 = sp.symbols('a1, a2, a3')\n",
    "x, y, z = sp.symbols('x, y, z')\n",
    "f = a1*x + a2*y + a3*z\n",
    "display_func(\"f(a1, a2, a3)\", f)"
   ]
  },
  {
   "cell_type": "code",
   "execution_count": 7,
   "id": "fd12e02c",
   "metadata": {},
   "outputs": [
    {
     "data": {
      "text/latex": [
       "$ f1 = 5 x + 7 y - 5 z $"
      ],
      "text/plain": [
       "<IPython.core.display.Latex object>"
      ]
     },
     "metadata": {},
     "output_type": "display_data"
    },
    {
     "data": {
      "text/latex": [
       "$ f2 = - 2 y + 2 z $"
      ],
      "text/plain": [
       "<IPython.core.display.Latex object>"
      ]
     },
     "metadata": {},
     "output_type": "display_data"
    },
    {
     "data": {
      "text/latex": [
       "$ f3 = - 4 x - 8 y - 7 z $"
      ],
      "text/plain": [
       "<IPython.core.display.Latex object>"
      ]
     },
     "metadata": {},
     "output_type": "display_data"
    },
    {
     "data": {
      "text/latex": [
       "$ f4 = x + y + 2 z $"
      ],
      "text/plain": [
       "<IPython.core.display.Latex object>"
      ]
     },
     "metadata": {},
     "output_type": "display_data"
    },
    {
     "data": {
      "text/latex": [
       "$ f5 = 2 x - y + 2 z $"
      ],
      "text/plain": [
       "<IPython.core.display.Latex object>"
      ]
     },
     "metadata": {},
     "output_type": "display_data"
    },
    {
     "data": {
      "text/latex": [
       "$ f6 = 4 x + y + 4 z $"
      ],
      "text/plain": [
       "<IPython.core.display.Latex object>"
      ]
     },
     "metadata": {},
     "output_type": "display_data"
    }
   ],
   "source": [
    "f1 = f.subs({a1: 5, a2: 7, a3: -5})\n",
    "f2 = f.subs({a1: 0, a2: -2, a3: 2})\n",
    "f3 = f.subs({a1: -4, a2: -8, a3: -7})\n",
    "f4 = f.subs({a1: 1, a2: 1, a3: 2})\n",
    "f5 = f.subs({a1: 2, a2: -1, a3: 2})\n",
    "f6 = f.subs({a1: 4, a2: 1, a3: 4})\n",
    "display_func(\"f1\", f1)\n",
    "display_func(\"f2\", f2)\n",
    "display_func(\"f3\", f3)\n",
    "display_func(\"f4\", f4)\n",
    "display_func(\"f5\", f5)\n",
    "display_func(\"f6\", f6)"
   ]
  },
  {
   "cell_type": "code",
   "execution_count": 8,
   "id": "c22061b2",
   "metadata": {},
   "outputs": [
    {
     "data": {
      "text/latex": [
       "$ MSE = \\frac{\\left(2 y - 2 z + 10\\right)^{2}}{6} + \\frac{\\left(- 5 x - 7 y + 5 z - 47\\right)^{2}}{6} + \\frac{\\left(- 4 x - y - 4 z - 2\\right)^{2}}{6} + \\frac{\\left(- 2 x + y - 2 z - 4\\right)^{2}}{6} + \\frac{\\left(- x - y - 2 z - 1\\right)^{2}}{6} + \\frac{\\left(4 x + 8 y + 7 z + 63\\right)^{2}}{6} $"
      ],
      "text/plain": [
       "<IPython.core.display.Latex object>"
      ]
     },
     "metadata": {},
     "output_type": "display_data"
    }
   ],
   "source": [
    "MSE = 1/6 * ((-47 - f1)**2 + (10 - f2)**2 + (63 - f3)**2 + (-1 - f4)**2 + (-4 - f5)**2 + (-2 - f6)**2)\n",
    "MSE = sp.nsimplify(MSE)\n",
    "display_func(\"MSE\", MSE)"
   ]
  },
  {
   "cell_type": "code",
   "execution_count": 9,
   "id": "2336b9e3",
   "metadata": {},
   "outputs": [
    {
     "data": {
      "text/latex": [
       "$\\displaystyle \\left[\\begin{matrix}5 & 7 & -5\\\\0 & -2 & 2\\\\-4 & -8 & -7\\\\1 & 1 & 2\\\\2 & -1 & 2\\\\4 & 1 & 4\\end{matrix}\\right]$"
      ],
      "text/plain": [
       "Matrix([\n",
       "[ 5,  7, -5],\n",
       "[ 0, -2,  2],\n",
       "[-4, -8, -7],\n",
       "[ 1,  1,  2],\n",
       "[ 2, -1,  2],\n",
       "[ 4,  1,  4]])"
      ]
     },
     "execution_count": 9,
     "metadata": {},
     "output_type": "execute_result"
    }
   ],
   "source": [
    "X = sp.Matrix([[ 5,  7, -5],\n",
    "               [ 0, -2,  2],\n",
    "               [-4, -8, -7],\n",
    "               [ 1,  1,  2],\n",
    "               [ 2, -1,  2],\n",
    "               [ 4,  1,  4]])\n",
    "X"
   ]
  },
  {
   "cell_type": "code",
   "execution_count": 10,
   "id": "067b2422",
   "metadata": {},
   "outputs": [
    {
     "data": {
      "text/latex": [
       "$\\displaystyle \\left[\\begin{matrix}-47\\\\10\\\\63\\\\-1\\\\-4\\\\-2\\end{matrix}\\right]$"
      ],
      "text/plain": [
       "Matrix([\n",
       "[-47],\n",
       "[ 10],\n",
       "[ 63],\n",
       "[ -1],\n",
       "[ -4],\n",
       "[ -2]])"
      ]
     },
     "execution_count": 10,
     "metadata": {},
     "output_type": "execute_result"
    }
   ],
   "source": [
    "b = sp.Matrix([-47, 10, 63, -1, -4, -2])\n",
    "b"
   ]
  },
  {
   "cell_type": "code",
   "execution_count": 11,
   "id": "a8dcb744",
   "metadata": {},
   "outputs": [
    {
     "data": {
      "text/latex": [
       "$\\displaystyle 230238$"
      ],
      "text/plain": [
       "230238"
      ]
     },
     "execution_count": 11,
     "metadata": {},
     "output_type": "execute_result"
    }
   ],
   "source": [
    "mul = X.T * X\n",
    "mul.det()"
   ]
  },
  {
   "cell_type": "code",
   "execution_count": 12,
   "id": "a614a643",
   "metadata": {},
   "outputs": [
    {
     "data": {
      "text/latex": [
       "$\\displaystyle \\left[\\begin{matrix}\\frac{1130}{12791} & \\frac{565}{12791} & \\frac{913}{12791} & \\frac{118}{12791} & \\frac{3017}{25582} & \\frac{3829}{25582}\\\\\\frac{763}{38373} & - \\frac{5251}{115119} & - \\frac{11134}{115119} & - \\frac{10}{115119} & - \\frac{6011}{76746} & - \\frac{6323}{76746}\\\\- \\frac{2869}{38373} & \\frac{2092}{115119} & - \\frac{7622}{115119} & \\frac{1999}{115119} & \\frac{262}{38373} & \\frac{748}{38373}\\end{matrix}\\right]$"
      ],
      "text/plain": [
       "Matrix([\n",
       "[ 1130/12791,    565/12791,     913/12791,   118/12791,  3017/25582,  3829/25582],\n",
       "[  763/38373, -5251/115119, -11134/115119,  -10/115119, -6011/76746, -6323/76746],\n",
       "[-2869/38373,  2092/115119,  -7622/115119, 1999/115119,   262/38373,   748/38373]])"
      ]
     },
     "execution_count": 12,
     "metadata": {},
     "output_type": "execute_result"
    }
   ],
   "source": [
    "X_pseudo_inverse = (mul)**(-1) * X.T\n",
    "X_pseudo_inverse"
   ]
  },
  {
   "cell_type": "code",
   "execution_count": 13,
   "id": "25b47e01",
   "metadata": {},
   "outputs": [
    {
     "data": {
      "text/latex": [
       "$\\displaystyle \\left[\\begin{matrix}0.00609803768274568\\\\-7.00570713783129\\\\-0.559143147525604\\end{matrix}\\right]$"
      ],
      "text/plain": [
       "Matrix([\n",
       "[0.00609803768274568],\n",
       "[  -7.00570713783129],\n",
       "[ -0.559143147525604]])"
      ]
     },
     "execution_count": 13,
     "metadata": {},
     "output_type": "execute_result"
    }
   ],
   "source": [
    "best_point = X_pseudo_inverse * b\n",
    "best_point = best_point.evalf()\n",
    "best_point"
   ]
  },
  {
   "cell_type": "code",
   "execution_count": 14,
   "id": "badb02f8",
   "metadata": {},
   "outputs": [
    {
     "name": "stdout",
     "output_type": "stream",
     "text": [
      "36.5242879107706\n"
     ]
    }
   ],
   "source": [
    "print(MSE.subs({x: best_point[0], y: best_point[1], z: best_point[2]}))"
   ]
  },
  {
   "cell_type": "code",
   "execution_count": 15,
   "id": "c598cfc3",
   "metadata": {},
   "outputs": [
    {
     "data": {
      "text/latex": [
       "$ x = 0.006098 $"
      ],
      "text/plain": [
       "<IPython.core.display.Latex object>"
      ]
     },
     "metadata": {},
     "output_type": "display_data"
    },
    {
     "data": {
      "text/latex": [
       "$ y = -7.006 $"
      ],
      "text/plain": [
       "<IPython.core.display.Latex object>"
      ]
     },
     "metadata": {},
     "output_type": "display_data"
    },
    {
     "data": {
      "text/latex": [
       "$ z = -0.5591 $"
      ],
      "text/plain": [
       "<IPython.core.display.Latex object>"
      ]
     },
     "metadata": {},
     "output_type": "display_data"
    }
   ],
   "source": [
    "display_func(\"x\", best_point[0].evalf(4))\n",
    "display_func(\"y\", best_point[1].evalf(4))\n",
    "display_func(\"z\", best_point[2].evalf(4))"
   ]
  },
  {
   "cell_type": "markdown",
   "id": "9d89d43e",
   "metadata": {},
   "source": [
    "псевдообратная матрица поможет только для линейных функций"
   ]
  },
  {
   "cell_type": "markdown",
   "id": "b94da4be",
   "metadata": {},
   "source": [
    "---\n",
    "---\n",
    "---"
   ]
  },
  {
   "cell_type": "markdown",
   "id": "c8f42c28",
   "metadata": {},
   "source": [
    "**Скалярное произведение векторов**\n",
    "\n",
    "$$\n",
    "\\vec a \\cdot \\vec b = \\langle a, b \\rangle =\n",
    "|\\vec a| |\\vec b| \\cos{\\varphi} =\n",
    "\\sum\\limits_{i=1}^{n} a_i b_i\n",
    "$$"
   ]
  },
  {
   "cell_type": "markdown",
   "id": "ac3c2c86",
   "metadata": {},
   "source": [
    "**Норма** - длина вектора\n",
    "\n",
    "$$\n",
    "|\\vec a| = \\sqrt{ \\langle a, a \\rangle } = \\sqrt{ \\sum\\limits_{i=1}^{n} a_i^2 }\n",
    "$$"
   ]
  },
  {
   "cell_type": "code",
   "execution_count": 16,
   "id": "5c837fb4",
   "metadata": {},
   "outputs": [
    {
     "data": {
      "text/plain": [
       "12"
      ]
     },
     "execution_count": 16,
     "metadata": {},
     "output_type": "execute_result"
    }
   ],
   "source": [
    "a = np.array([1, 2, 3])\n",
    "b = np.array([2, 2, 2])\n",
    "a.dot(b)"
   ]
  },
  {
   "cell_type": "markdown",
   "id": "8053389e",
   "metadata": {},
   "source": [
    "---\n",
    "---\n",
    "---"
   ]
  },
  {
   "cell_type": "code",
   "execution_count": null,
   "id": "52fc80ea",
   "metadata": {},
   "outputs": [],
   "source": []
  }
 ],
 "metadata": {
  "kernelspec": {
   "display_name": "Python 3 (ipykernel)",
   "language": "python",
   "name": "python3"
  },
  "language_info": {
   "codemirror_mode": {
    "name": "ipython",
    "version": 3
   },
   "file_extension": ".py",
   "mimetype": "text/x-python",
   "name": "python",
   "nbconvert_exporter": "python",
   "pygments_lexer": "ipython3",
   "version": "3.9.7"
  }
 },
 "nbformat": 4,
 "nbformat_minor": 5
}
