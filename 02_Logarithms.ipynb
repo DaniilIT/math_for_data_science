{
 "cells": [
  {
   "cell_type": "code",
   "execution_count": 1,
   "id": "6a6f995f",
   "metadata": {},
   "outputs": [],
   "source": [
    "import sympy as sp"
   ]
  },
  {
   "cell_type": "markdown",
   "id": "517c69fa",
   "metadata": {},
   "source": [
    "**логарифм** - это функция, обратная возведению в степень."
   ]
  },
  {
   "cell_type": "markdown",
   "id": "7283ffa1",
   "metadata": {},
   "source": [
    "$$\n",
    "\\log_{a}{b} = c \\quad \\Leftrightarrow \\quad a^c = b\n",
    "$$"
   ]
  },
  {
   "cell_type": "markdown",
   "id": "ec60fe51",
   "metadata": {},
   "source": [
    "$ \\log_{10}{x} = \\lg{x} $ \\\n",
    "$ \\log_{e}{x} = \\ln{x} $"
   ]
  },
  {
   "cell_type": "markdown",
   "id": "9c320e52",
   "metadata": {},
   "source": [
    "основное логарифмическое тождество:\n",
    "$$\n",
    "a^{\\log_{a}{b}} = b\n",
    "$$"
   ]
  },
  {
   "cell_type": "markdown",
   "id": "36ce6520",
   "metadata": {},
   "source": [
    "---"
   ]
  },
  {
   "cell_type": "markdown",
   "id": "a5f61e67",
   "metadata": {},
   "source": [
    "$$\n",
    "\\log{a} + \\log{b} = \\log{a b}\n",
    "$$"
   ]
  },
  {
   "cell_type": "markdown",
   "id": "ed04cf81",
   "metadata": {},
   "source": [
    "$$\n",
    "\\log{a} - \\log{b} = \\log{\\frac{a}{b}}\n",
    "$$"
   ]
  },
  {
   "cell_type": "markdown",
   "id": "3ab62260",
   "metadata": {},
   "source": [
    "$$\n",
    "\\log_{a}{b^n} = n \\log_{a}{b}\n",
    "$$"
   ]
  },
  {
   "cell_type": "markdown",
   "id": "f37c4eda",
   "metadata": {},
   "source": [
    "$$\n",
    "\\log_{a^m}{b} = \\frac{1}{m} \\log_{a}{b}\n",
    "$$"
   ]
  },
  {
   "cell_type": "markdown",
   "id": "9daf9fd2",
   "metadata": {},
   "source": [
    "$$\n",
    "\\log_{a}{b} = \\frac{1}{\\log_{b}{a}}\n",
    "$$"
   ]
  },
  {
   "cell_type": "markdown",
   "id": "d6fd28e4",
   "metadata": {},
   "source": [
    "$$\n",
    "\\log_{a}{b} = \\frac{\\log_{c}{b}}{\\log_{c}{a}}\n",
    "$$"
   ]
  },
  {
   "cell_type": "markdown",
   "id": "e8892240",
   "metadata": {},
   "source": [
    "---"
   ]
  },
  {
   "cell_type": "markdown",
   "id": "36d455f0",
   "metadata": {},
   "source": [
    "$$\n",
    "\\sum_{i=1}^{n} \\log{i} = \\log \\left( \\prod_{i=1}^{n} i \\right)\n",
    "$$"
   ]
  },
  {
   "cell_type": "code",
   "execution_count": 2,
   "id": "13c62fc2",
   "metadata": {},
   "outputs": [
    {
     "name": "stdout",
     "output_type": "stream",
     "text": [
      "Введите n: 7\n",
      "f = log(2) + log(3) + log(4) + log(5) + log(6) + log(7) = 8.52516136106541\n"
     ]
    }
   ],
   "source": [
    "n = int(input(\"Введите n: \"))\n",
    "\n",
    "expression = 0\n",
    "for i in range(1, n+1):\n",
    "    expression += sp.log(i)\n",
    "\n",
    "print(\"f =\", expression, \"=\", expression.evalf())"
   ]
  },
  {
   "cell_type": "code",
   "execution_count": 3,
   "id": "b3b09a3b",
   "metadata": {},
   "outputs": [
    {
     "name": "stdout",
     "output_type": "stream",
     "text": [
      "Введите n: 7\n",
      "f = log(5040) = 8.52516136106541\n"
     ]
    }
   ],
   "source": [
    "n = int(input(\"Введите n: \"))\n",
    "\n",
    "product = 1\n",
    "for i in range(1, n+1):\n",
    "    product *= i\n",
    "\n",
    "expression = sp.log(product)\n",
    "print(\"f =\", expression, \"=\", expression.evalf())"
   ]
  },
  {
   "cell_type": "markdown",
   "id": "21fa8b32",
   "metadata": {},
   "source": [
    "---"
   ]
  },
  {
   "cell_type": "markdown",
   "id": "b7949b87",
   "metadata": {},
   "source": [
    "$$\n",
    "a^n \\cdot b^n = (a b)^n\n",
    "$$"
   ]
  },
  {
   "cell_type": "markdown",
   "id": "b36ca1e1",
   "metadata": {},
   "source": [
    "$$\n",
    "(a^n)^m = a^{n m}\n",
    "$$"
   ]
  },
  {
   "cell_type": "markdown",
   "id": "30a63ad2",
   "metadata": {},
   "source": [
    "$$\n",
    "a^n \\cdot a^m = a^{n + m}\n",
    "$$"
   ]
  },
  {
   "cell_type": "markdown",
   "id": "72fd586c",
   "metadata": {},
   "source": [
    "$$\n",
    "\\frac{a^n}{a^m} = a^{n - m}\n",
    "$$"
   ]
  },
  {
   "cell_type": "markdown",
   "id": "c4ef583d",
   "metadata": {},
   "source": [
    "$$\n",
    "(\\sqrt{a}\\,)^n = \\sqrt{a^n}\n",
    "$$"
   ]
  },
  {
   "cell_type": "markdown",
   "id": "29b06337",
   "metadata": {},
   "source": [
    "---\n",
    "---\n",
    "---"
   ]
  },
  {
   "cell_type": "code",
   "execution_count": null,
   "id": "dddb7e4e",
   "metadata": {},
   "outputs": [],
   "source": []
  }
 ],
 "metadata": {
  "kernelspec": {
   "display_name": "Python 3 (ipykernel)",
   "language": "python",
   "name": "python3"
  },
  "language_info": {
   "codemirror_mode": {
    "name": "ipython",
    "version": 3
   },
   "file_extension": ".py",
   "mimetype": "text/x-python",
   "name": "python",
   "nbconvert_exporter": "python",
   "pygments_lexer": "ipython3",
   "version": "3.9.7"
  }
 },
 "nbformat": 4,
 "nbformat_minor": 5
}
