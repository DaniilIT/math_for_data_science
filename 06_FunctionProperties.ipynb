{
 "cells": [
  {
   "cell_type": "markdown",
   "id": "e4c883a0",
   "metadata": {},
   "source": [
    "# Свойства функций"
   ]
  },
  {
   "cell_type": "code",
   "execution_count": 1,
   "id": "5aceab47",
   "metadata": {},
   "outputs": [],
   "source": [
    "import numpy as np\n",
    "import sympy as sp\n",
    "import matplotlib.pyplot as plt\n",
    "%matplotlib inline"
   ]
  },
  {
   "cell_type": "code",
   "execution_count": 2,
   "id": "3e16489f",
   "metadata": {},
   "outputs": [],
   "source": [
    "def my_plot(f):\n",
    "    def function(x_):\n",
    "        return float(f.subs(x, x_))\n",
    "    \n",
    "    plt.xlim(-10, 10)\n",
    "    plt.ylim(-50, 50)\n",
    "    \n",
    "    plt.axhline(0, color='black', linewidth=1)\n",
    "    plt.axvline(0, color='black', linewidth=1)\n",
    "    \n",
    "    x_range = np.linspace(-10, 10, num=1000)\n",
    "    y = [function(x_) for x_ in x_range]\n",
    "    \n",
    "    plt.plot(x_range, y, 'b')\n",
    "    plt.show();"
   ]
  },
  {
   "cell_type": "markdown",
   "id": "430dec1d",
   "metadata": {},
   "source": [
    "**Чётная функция** — функция, не изменяющая своего значения при изменении знака независимой переменной (график её симметричен относительно оси ординат)."
   ]
  },
  {
   "cell_type": "markdown",
   "id": "072c1f51",
   "metadata": {},
   "source": [
    "Функция $ f: X \\to \\mathbb{R} $ называется *чётной*, если справедливо равенство:\n",
    "$$\n",
    "f(-x) = f(x), \\quad \\forall x \\in X\n",
    "$$"
   ]
  },
  {
   "cell_type": "code",
   "execution_count": 3,
   "id": "185fc0ac",
   "metadata": {},
   "outputs": [
    {
     "data": {
      "text/latex": [
       "$\\displaystyle x^{2} - 25$"
      ],
      "text/plain": [
       "x**2 - 25"
      ]
     },
     "execution_count": 3,
     "metadata": {},
     "output_type": "execute_result"
    }
   ],
   "source": [
    "x = sp.Symbol('x')\n",
    "f = x ** 2 - 25\n",
    "f"
   ]
  },
  {
   "cell_type": "code",
   "execution_count": 4,
   "id": "387f5b13",
   "metadata": {},
   "outputs": [
    {
     "data": {
      "text/latex": [
       "$\\displaystyle x^{2} - 25$"
      ],
      "text/plain": [
       "x**2 - 25"
      ]
     },
     "execution_count": 4,
     "metadata": {},
     "output_type": "execute_result"
    }
   ],
   "source": [
    "f.subs(x, -x)"
   ]
  },
  {
   "cell_type": "code",
   "execution_count": 5,
   "id": "1cc8f58e",
   "metadata": {},
   "outputs": [
    {
     "data": {
      "image/png": "[encoded data removed]",
      "text/plain": [
       "<Figure size 432x288 with 1 Axes>"
      ]
     },
     "metadata": {
      "needs_background": "light"
     },
     "output_type": "display_data"
    }
   ],
   "source": [
    "my_plot(f)"
   ]
  },
  {
   "cell_type": "markdown",
   "id": "281f5eb4",
   "metadata": {},
   "source": [
    "---"
   ]
  },
  {
   "cell_type": "markdown",
   "id": "92d1556e",
   "metadata": {},
   "source": [
    "**Нечётная функция** — функция, меняющая значение на противоположное при изменении знака независимой переменной (график её симметричен относительно центра координат)."
   ]
  },
  {
   "cell_type": "markdown",
   "id": "b9c15f59",
   "metadata": {},
   "source": [
    "Функция $ f: X \\to \\mathbb{R} $ называется *нечётной*, если справедливо равенство:\n",
    "$$\n",
    "f(-x) = -f(x), \\quad \\forall x \\in X\n",
    "$$"
   ]
  },
  {
   "cell_type": "code",
   "execution_count": 6,
   "id": "b8dce655",
   "metadata": {},
   "outputs": [
    {
     "data": {
      "text/latex": [
       "$\\displaystyle 0.2 x^{3} - 10 x$"
      ],
      "text/plain": [
       "0.2*x**3 - 10*x"
      ]
     },
     "execution_count": 6,
     "metadata": {},
     "output_type": "execute_result"
    }
   ],
   "source": [
    "x = sp.Symbol('x')\n",
    "f = 0.2 * x**3 - 10 * x\n",
    "f"
   ]
  },
  {
   "cell_type": "code",
   "execution_count": 7,
   "id": "57f25d4e",
   "metadata": {},
   "outputs": [
    {
     "data": {
      "text/latex": [
       "$\\displaystyle - 0.2 x^{3} + 10 x$"
      ],
      "text/plain": [
       "-0.2*x**3 + 10*x"
      ]
     },
     "execution_count": 7,
     "metadata": {},
     "output_type": "execute_result"
    }
   ],
   "source": [
    "f.subs(x, -x)"
   ]
  },
  {
   "cell_type": "code",
   "execution_count": 8,
   "id": "3183d9fa",
   "metadata": {},
   "outputs": [
    {
     "data": {
      "image/png": "[encoded data removed]",
      "text/plain": [
       "<Figure size 432x288 with 1 Axes>"
      ]
     },
     "metadata": {
      "needs_background": "light"
     },
     "output_type": "display_data"
    }
   ],
   "source": [
    "my_plot(f)"
   ]
  },
  {
   "cell_type": "markdown",
   "id": "0b8b5689",
   "metadata": {},
   "source": [
    "---\n",
    "---\n",
    "---"
   ]
  },
  {
   "cell_type": "code",
   "execution_count": 9,
   "id": "fe84b712",
   "metadata": {},
   "outputs": [],
   "source": [
    "def my_plot(f, xlim, ylim, points_X, points_Y):\n",
    "    \"\"\"\n",
    "    Показывает на графике функцию f, точки и вычисляет MSE\n",
    "    \"\"\"\n",
    "    def function(x_):\n",
    "        return float(f.subs(x, x_))\n",
    "    \n",
    "    plt.xlim(-xlim, xlim)\n",
    "    plt.ylim(-ylim, ylim)\n",
    "    \n",
    "    plt.axhline(0, color='black', linewidth=1)\n",
    "    plt.axvline(0, color='black', linewidth=1)\n",
    "    \n",
    "    x_range = np.linspace(plt.xlim()[0], plt.xlim()[1], num=100)\n",
    "    y = [function(x_) for x_ in x_range]\n",
    "    \n",
    "    plt.plot(x_range, y, 'b')\n",
    "    plt.scatter(points_X, points_Y, c='r')\n",
    "    plt.show();\n",
    "    \n",
    "    n = len(points_X)\n",
    "    MSE = sum([(points_Y[i] - function(points_X[i]))**2 for i in range(n)]) / n\n",
    "    print(f'MSE = {MSE}')"
   ]
  },
  {
   "cell_type": "code",
   "execution_count": 10,
   "id": "a73a25f4",
   "metadata": {},
   "outputs": [
    {
     "name": "stdout",
     "output_type": "stream",
     "text": [
      "\n",
      "    Показывает на графике функцию f, точки и вычисляет MSE\n",
      "    \n"
     ]
    }
   ],
   "source": [
    "print(my_plot.__doc__)"
   ]
  },
  {
   "cell_type": "markdown",
   "id": "7341d068",
   "metadata": {},
   "source": [
    "### Геометрические преобразования графиков функций"
   ]
  },
  {
   "cell_type": "markdown",
   "id": "a6e95f49",
   "metadata": {},
   "source": [
    "$$\n",
    "y = f(x) + a\n",
    "$$\n",
    "смещение по оси ординат: \\\n",
    "вверх, если $ a > 0 $ \\\n",
    "вниз, если $ a < 0 $"
   ]
  },
  {
   "cell_type": "markdown",
   "id": "ca9047df",
   "metadata": {},
   "source": [
    "$$\n",
    "y = f(x + a)\n",
    "$$\n",
    "смещение по оси абсцисс: \\\n",
    "влево, если $ a > 0 $ \\\n",
    "вправо, если $ a < 0 $"
   ]
  },
  {
   "cell_type": "code",
   "execution_count": 11,
   "id": "4ae63dbb",
   "metadata": {},
   "outputs": [],
   "source": [
    "points_X = np.array([-8, -6,  -5, -3, -1,  1])\n",
    "points_Y = np.array([-3.8, -10.2, -10.2, -3.8, 9.2, 32.3])"
   ]
  },
  {
   "cell_type": "code",
   "execution_count": 12,
   "id": "e26bc0b1",
   "metadata": {},
   "outputs": [
    {
     "data": {
      "text/latex": [
       "$\\displaystyle x^{2} + x$"
      ],
      "text/plain": [
       "x**2 + x"
      ]
     },
     "execution_count": 12,
     "metadata": {},
     "output_type": "execute_result"
    }
   ],
   "source": [
    "x = sp.Symbol('x')\n",
    "f = x**2 + x\n",
    "f"
   ]
  },
  {
   "cell_type": "code",
   "execution_count": 13,
   "id": "16f6def3",
   "metadata": {},
   "outputs": [
    {
     "data": {
      "image/png": "[encoded data removed]",
      "text/plain": [
       "<Figure size 432x288 with 1 Axes>"
      ]
     },
     "metadata": {
      "needs_background": "light"
     },
     "output_type": "display_data"
    },
    {
     "name": "stdout",
     "output_type": "stream",
     "text": [
      "MSE = 1200.4816666666668\n"
     ]
    }
   ],
   "source": [
    "my_plot(f, 10, 35, points_X, points_Y)"
   ]
  },
  {
   "cell_type": "code",
   "execution_count": 14,
   "id": "63348655",
   "metadata": {},
   "outputs": [
    {
     "data": {
      "text/latex": [
       "$\\displaystyle x^{2} + 11 x + 20$"
      ],
      "text/plain": [
       "x**2 + 11*x + 20"
      ]
     },
     "execution_count": 14,
     "metadata": {},
     "output_type": "execute_result"
    }
   ],
   "source": [
    "f_new = sp.expand(f.subs(x, x + 5) - 10)\n",
    "f_new"
   ]
  },
  {
   "cell_type": "code",
   "execution_count": 15,
   "id": "942d22ba",
   "metadata": {},
   "outputs": [
    {
     "data": {
      "image/png": "[encoded data removed]",
      "text/plain": [
       "<Figure size 432x288 with 1 Axes>"
      ]
     },
     "metadata": {
      "needs_background": "light"
     },
     "output_type": "display_data"
    },
    {
     "name": "stdout",
     "output_type": "stream",
     "text": [
      "MSE = 0.14833333333333318\n"
     ]
    }
   ],
   "source": [
    "my_plot(f_new, 10, 35, points_X, points_Y)"
   ]
  },
  {
   "cell_type": "markdown",
   "id": "735660dc",
   "metadata": {},
   "source": [
    "$$\n",
    "y = k f(x)\n",
    "$$\n",
    "растяжение *от* оси абсцисс, если $ k > 1 $ \\\n",
    "сжатие *к* оси абсцисс, если $ 0 < k  < 1 $ \\\n",
    "отражение относительно оси абсцисс, если $ k < 0 $"
   ]
  },
  {
   "cell_type": "markdown",
   "id": "82c63af1",
   "metadata": {},
   "source": [
    "$$\n",
    "y = f(k x)\n",
    "$$\n",
    "сжатие *к* оси ординат, если $ k > 1 $ \\\n",
    "растяжение *от* оси ординат, если $ 0 < k  < 1 $ \\\n",
    "отражение относительно оси ординат, если $ k < 0 $"
   ]
  },
  {
   "cell_type": "code",
   "execution_count": 16,
   "id": "a5b136b5",
   "metadata": {},
   "outputs": [],
   "source": [
    "points_X = np.array([-2, -1, -0.5, 0, 0.5, 1, 2])\n",
    "points_Y = np.array([4.1, -16, -20.1, -20.1, -16, -8.1, 20.1])"
   ]
  },
  {
   "cell_type": "code",
   "execution_count": 17,
   "id": "bc2564dd",
   "metadata": {},
   "outputs": [
    {
     "data": {
      "text/latex": [
       "$\\displaystyle x^{2} + x - 10$"
      ],
      "text/plain": [
       "x**2 + x - 10"
      ]
     },
     "execution_count": 17,
     "metadata": {},
     "output_type": "execute_result"
    }
   ],
   "source": [
    "x = sp.Symbol('x')\n",
    "f = x**2 + x - 10\n",
    "f"
   ]
  },
  {
   "cell_type": "code",
   "execution_count": 18,
   "id": "894b610a",
   "metadata": {},
   "outputs": [
    {
     "data": {
      "image/png": "[encoded data removed]",
      "text/plain": [
       "<Figure size 432x288 with 1 Axes>"
      ]
     },
     "metadata": {
      "needs_background": "light"
     },
     "output_type": "display_data"
    },
    {
     "name": "stdout",
     "output_type": "stream",
     "text": [
      "MSE = 143.975\n"
     ]
    }
   ],
   "source": [
    "my_plot(f, 10, 35, points_X, points_Y)"
   ]
  },
  {
   "cell_type": "code",
   "execution_count": 19,
   "id": "7adbf2e7",
   "metadata": {},
   "outputs": [
    {
     "data": {
      "text/latex": [
       "$\\displaystyle 8 x^{2} + 4 x - 20$"
      ],
      "text/plain": [
       "8*x**2 + 4*x - 20"
      ]
     },
     "execution_count": 19,
     "metadata": {},
     "output_type": "execute_result"
    }
   ],
   "source": [
    "f_new = f.subs(x, x * 2) * 2\n",
    "f_new"
   ]
  },
  {
   "cell_type": "code",
   "execution_count": 20,
   "id": "cb538420",
   "metadata": {},
   "outputs": [
    {
     "data": {
      "image/png": "[encoded data removed]",
      "text/plain": [
       "<Figure size 432x288 with 1 Axes>"
      ]
     },
     "metadata": {
      "needs_background": "light"
     },
     "output_type": "display_data"
    },
    {
     "name": "stdout",
     "output_type": "stream",
     "text": [
      "MSE = 0.007142857142857244\n"
     ]
    }
   ],
   "source": [
    "my_plot(f_new, 10, 35, points_X, points_Y)"
   ]
  },
  {
   "cell_type": "markdown",
   "id": "218d8dfa",
   "metadata": {},
   "source": [
    "---\n",
    "---\n",
    "---"
   ]
  },
  {
   "cell_type": "code",
   "execution_count": null,
   "id": "67954947",
   "metadata": {},
   "outputs": [],
   "source": []
  }
 ],
 "metadata": {
  "kernelspec": {
   "display_name": "Python 3 (ipykernel)",
   "language": "python",
   "name": "python3"
  },
  "language_info": {
   "codemirror_mode": {
    "name": "ipython",
    "version": 3
   },
   "file_extension": ".py",
   "mimetype": "text/x-python",
   "name": "python",
   "nbconvert_exporter": "python",
   "pygments_lexer": "ipython3",
   "version": "3.9.7"
  }
 },
 "nbformat": 4,
 "nbformat_minor": 5
}
