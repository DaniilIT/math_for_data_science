{
 "cells": [
  {
   "cell_type": "code",
   "execution_count": 1,
   "id": "26e915d1",
   "metadata": {},
   "outputs": [],
   "source": [
    "# Markdown - язык разметки."
   ]
  },
  {
   "cell_type": "markdown",
   "id": "52db5432",
   "metadata": {},
   "source": [
    "Чтобы изменить тип ячеки на Markdown, надо нажать клавишу \"M\", \\\n",
    "на Code - нажать клавишу \"Y\"."
   ]
  },
  {
   "cell_type": "markdown",
   "id": "278295f7",
   "metadata": {},
   "source": [
    "Чтобы добавить ячейку сверху, надо нажать клавишу \"A\", \\\n",
    "снизу - нажать клавишу \"B\"."
   ]
  },
  {
   "cell_type": "markdown",
   "id": "2a508f82",
   "metadata": {},
   "source": [
    "---"
   ]
  },
  {
   "cell_type": "markdown",
   "id": "b3d76581",
   "metadata": {},
   "source": [
    "# Header 1\n",
    "## Header 2\n",
    "### Header 3\n",
    "#### Header 4\n",
    "##### Header 5\n",
    "###### Header 6"
   ]
  },
  {
   "cell_type": "markdown",
   "id": "abe42ae3",
   "metadata": {},
   "source": [
    "---"
   ]
  },
  {
   "cell_type": "markdown",
   "id": "ce455ab0",
   "metadata": {},
   "source": [
    "*курсив*, **полужирное начертание**, ***полужирный курсив***"
   ]
  },
  {
   "cell_type": "markdown",
   "id": "c2a18e8e",
   "metadata": {},
   "source": [
    "~Перечеркнутый текст~"
   ]
  },
  {
   "cell_type": "markdown",
   "id": "f264a1ec",
   "metadata": {},
   "source": [
    "> Цитата"
   ]
  },
  {
   "cell_type": "markdown",
   "id": "4d7edd3e",
   "metadata": {},
   "source": [
    "Подсветка текста: `print(str)`"
   ]
  },
  {
   "cell_type": "markdown",
   "id": "0a74540b",
   "metadata": {},
   "source": [
    "```Python\n",
    "str = \"Hello World!\"\n",
    "print(str)\n",
    "```"
   ]
  },
  {
   "cell_type": "markdown",
   "id": "0ddaf8e1",
   "metadata": {},
   "source": [
    "---"
   ]
  },
  {
   "cell_type": "markdown",
   "id": "ebd2f1b7",
   "metadata": {},
   "source": [
    "```Markdown\n",
    "[Ссылка на сайт курса](https://skillbox.ru/course/math-for-data-science)\n",
    "<a href=\"https://skillbox.ru/course/math-for-data-science\">Ссылка на сайт курса</a>\n",
    "<https://skillbox.ru/course/math-for-data-science>\n",
    "```"
   ]
  },
  {
   "cell_type": "markdown",
   "id": "a3973aee",
   "metadata": {},
   "source": [
    "[Ссылка на сайт курса](https://skillbox.ru/course/math-for-data-science)\n"
   ]
  },
  {
   "cell_type": "markdown",
   "id": "e6361b09",
   "metadata": {},
   "source": [
    "```Markdown\n",
    "[Ссылка на якорь](#LaTeX)\n",
    "<a href=\"#LaTeX\">Ссылка на якорь</a>\n",
    "```"
   ]
  },
  {
   "cell_type": "markdown",
   "id": "a8ebf9f9",
   "metadata": {},
   "source": [
    "[Ссылка на якорь](#LaTeX)"
   ]
  },
  {
   "cell_type": "markdown",
   "id": "daa3713a",
   "metadata": {},
   "source": [
    "---"
   ]
  },
  {
   "cell_type": "markdown",
   "id": "d9a6abbe",
   "metadata": {},
   "source": [
    "```Markdown\n",
    "![Jupyter](./img/solar_system.jpeg \"Solar System\")\n",
    "<img src=\"img/solar_system.jpeg\" alt=\"Jupyter\" title=\"Solar System\" style=\"width: 800px;\"/>\n",
    "```"
   ]
  },
  {
   "cell_type": "markdown",
   "id": "e9b2bc69",
   "metadata": {},
   "source": [
    "<img src=\"img/solar_system.jpeg\" alt=\"Jupyter\" title=\"Solar System\" style=\"width: 800px;\"/>"
   ]
  },
  {
   "cell_type": "markdown",
   "id": "5cb8c124",
   "metadata": {},
   "source": [
    "---"
   ]
  },
  {
   "cell_type": "markdown",
   "id": "8ea33740",
   "metadata": {},
   "source": [
    "1. point\n",
    "1. point\n",
    "    1. point\n",
    "    2. point\n",
    "    3. point"
   ]
  },
  {
   "cell_type": "markdown",
   "id": "ededd921",
   "metadata": {},
   "source": [
    "* point\n",
    "* point\n",
    "    - point\n",
    "    - point\n",
    "    - point"
   ]
  },
  {
   "cell_type": "markdown",
   "id": "6c1d137e",
   "metadata": {},
   "source": [
    "---"
   ]
  },
  {
   "cell_type": "markdown",
   "id": "8b16b74c",
   "metadata": {},
   "source": [
    "```Markdown\n",
    "|A    |B    |C    |D    |\n",
    "|:----|:---:|----:|-----|\n",
    "|1    |2    |3    |4    |\n",
    "|5    |6    |7    |8    |\n",
    "|AAA  |BBB  |CCC  |DDD  |\n",
    "```"
   ]
  },
  {
   "cell_type": "markdown",
   "id": "abd01e7c",
   "metadata": {},
   "source": [
    "|A    |B    |C    |D    |\n",
    "|:----|:---:|----:|-----|\n",
    "|1    |2    |3    |4    |\n",
    "|5    |6    |7    |8    |\n",
    "|AAA  |BBB  |CCC  |DDD  |"
   ]
  },
  {
   "cell_type": "markdown",
   "id": "8b155bde",
   "metadata": {},
   "source": [
    "---\n",
    "---\n",
    "---"
   ]
  },
  {
   "cell_type": "markdown",
   "id": "ff7d5fcf",
   "metadata": {},
   "source": [
    "```Markdown\n",
    "это якорь <a name=\"LaTeX\">\n",
    "```"
   ]
  },
  {
   "cell_type": "markdown",
   "id": "9592049d",
   "metadata": {},
   "source": [
    "## LaTeX <a name=\"LaTeX\">"
   ]
  },
  {
   "cell_type": "code",
   "execution_count": 2,
   "id": "078fbf9c",
   "metadata": {},
   "outputs": [],
   "source": [
    "# LaTex - инструмент для записи формул."
   ]
  },
  {
   "cell_type": "markdown",
   "id": "a20eea42",
   "metadata": {},
   "source": [
    "* $ \\alpha $\n",
    "* $ \\beta $\n",
    "* $ \\gamma $\n",
    "* $ \\varepsilon $\n",
    "* $ \\varphi $\n",
    "* $ \\eta $\n",
    "* $ \\lambda $\n",
    "* $ \\mu $\n",
    "* $ \\sigma $\n",
    "* $ \\omega $"
   ]
  },
  {
   "cell_type": "markdown",
   "id": "25c9b3c9",
   "metadata": {},
   "source": [
    "* $ \\emptyset $\n",
    "* $ x \\in \\mathbb{R} $\n",
    "* $ \\forall $\n",
    "* $ \\exists $\n",
    "* $ \\nabla $"
   ]
  },
  {
   "cell_type": "markdown",
   "id": "8a535c77",
   "metadata": {},
   "source": [
    "---"
   ]
  },
  {
   "cell_type": "markdown",
   "id": "1e54320c",
   "metadata": {},
   "source": [
    "* $ \\leq $\n",
    "* $ \\geq $\n",
    "* $ \\neq $\n",
    "* $ \\approx $\n",
    "* $ \\sim $\n",
    "* $ \\pm $"
   ]
  },
  {
   "cell_type": "markdown",
   "id": "70d98152",
   "metadata": {},
   "source": [
    "* $ \\bar{y} $\n",
    "* $ \\vec{y} $\n",
    "* $ \\hat{y} $"
   ]
  },
  {
   "cell_type": "markdown",
   "id": "13605094",
   "metadata": {},
   "source": [
    "* $ \\Rightarrow $\n",
    "* $ \\Leftrightarrow $\n",
    "* $ \\Downarrow $\n",
    "* $ \\Updownarrow $"
   ]
  },
  {
   "cell_type": "markdown",
   "id": "cecdccfa",
   "metadata": {},
   "source": [
    "---"
   ]
  },
  {
   "cell_type": "markdown",
   "id": "12361d2d",
   "metadata": {},
   "source": [
    "```Markdown\n",
    "$$\n",
    "y = \\alpha_0 + \\alpha_1 \\cdot x + \\alpha_2 \\cdot x^2\n",
    "$$\n",
    "```"
   ]
  },
  {
   "cell_type": "markdown",
   "id": "18029491",
   "metadata": {},
   "source": [
    "$$\n",
    "y = \\alpha_0 + \\alpha_1 \\cdot x + \\alpha_2 \\cdot x^2\n",
    "$$"
   ]
  },
  {
   "cell_type": "markdown",
   "id": "f1ac259e",
   "metadata": {},
   "source": [
    "---"
   ]
  },
  {
   "cell_type": "markdown",
   "id": "4e0cf059",
   "metadata": {},
   "source": [
    "```Markdown\n",
    "$$\n",
    "e^{i \\pi}\n",
    "$$\n",
    "```"
   ]
  },
  {
   "cell_type": "markdown",
   "id": "c82f0acb",
   "metadata": {},
   "source": [
    "$$\n",
    "e^{i \\pi}\n",
    "$$"
   ]
  },
  {
   "cell_type": "markdown",
   "id": "86cf8e12",
   "metadata": {},
   "source": [
    "---"
   ]
  },
  {
   "cell_type": "markdown",
   "id": "f1ab4877",
   "metadata": {},
   "source": [
    "```Markdown\n",
    "$$\n",
    "\\sqrt{k-1}\n",
    "$$\n",
    "```"
   ]
  },
  {
   "cell_type": "markdown",
   "id": "7976641c",
   "metadata": {},
   "source": [
    "$$\n",
    "\\sqrt{k-1}\n",
    "$$"
   ]
  },
  {
   "cell_type": "markdown",
   "id": "94edcd4b",
   "metadata": {},
   "source": [
    "---"
   ]
  },
  {
   "cell_type": "markdown",
   "id": "768ed046",
   "metadata": {},
   "source": [
    "```Markdown\n",
    "$$\n",
    "\\left( \\cfrac{a}{1 + \\frac{b}{c}} \\right)\n",
    "$$\n",
    "```"
   ]
  },
  {
   "cell_type": "markdown",
   "id": "dc33ae51",
   "metadata": {},
   "source": [
    "$$\n",
    "\\left( \\cfrac{a}{1 + \\frac{b}{c}} \\right)\n",
    "$$"
   ]
  },
  {
   "cell_type": "markdown",
   "id": "87209a10",
   "metadata": {},
   "source": [
    "---"
   ]
  },
  {
   "cell_type": "markdown",
   "id": "612131c3",
   "metadata": {},
   "source": [
    "```Markdown\n",
    "$$\n",
    "\\log_n(n)\n",
    "$$\n",
    "```"
   ]
  },
  {
   "cell_type": "markdown",
   "id": "8377a0a8",
   "metadata": {},
   "source": [
    "$$\n",
    "\\log_n(n)\n",
    "$$"
   ]
  },
  {
   "cell_type": "markdown",
   "id": "92454daf",
   "metadata": {},
   "source": [
    "---"
   ]
  },
  {
   "cell_type": "markdown",
   "id": "5486f2a6",
   "metadata": {},
   "source": [
    "```Markdown\n",
    "$$\n",
    "\\lim_{x \\to +\\infty} f(x)\n",
    "$$ \n",
    "```"
   ]
  },
  {
   "cell_type": "markdown",
   "id": "47085eab",
   "metadata": {},
   "source": [
    "$$\n",
    "\\lim_{x \\to +\\infty} f(x)\n",
    "$$"
   ]
  },
  {
   "cell_type": "markdown",
   "id": "c2b9feb9",
   "metadata": {},
   "source": [
    "---"
   ]
  },
  {
   "cell_type": "markdown",
   "id": "610874da",
   "metadata": {},
   "source": [
    "```Markdown\n",
    "$$\n",
    "\\sum\\limits_{i=0}^{\\infty} \\frac{1}{i}\n",
    "$$\n",
    "```"
   ]
  },
  {
   "cell_type": "markdown",
   "id": "a783e21e",
   "metadata": {},
   "source": [
    "$$\n",
    "\\sum\\limits_{i=0}^{\\infty} \\frac{1}{i}\n",
    "$$"
   ]
  },
  {
   "cell_type": "markdown",
   "id": "6a85f526",
   "metadata": {},
   "source": [
    "---"
   ]
  },
  {
   "cell_type": "markdown",
   "id": "25b22225",
   "metadata": {},
   "source": [
    "```Markdown\n",
    "$$\n",
    "f'(x)\n",
    "$$\n",
    "```"
   ]
  },
  {
   "cell_type": "markdown",
   "id": "eadfee7b",
   "metadata": {},
   "source": [
    "$$\n",
    "f'(x)\n",
    "$$"
   ]
  },
  {
   "cell_type": "markdown",
   "id": "bc225d48",
   "metadata": {},
   "source": [
    "---"
   ]
  },
  {
   "cell_type": "markdown",
   "id": "5eb81a1b",
   "metadata": {},
   "source": [
    "```Markdown\n",
    "$$\n",
    "\\frac{\\partial f}{\\partial x}\n",
    "$$\n",
    "```"
   ]
  },
  {
   "cell_type": "markdown",
   "id": "a5811b14",
   "metadata": {},
   "source": [
    "$$\n",
    "\\frac{\\partial f}{\\partial x}\n",
    "$$"
   ]
  },
  {
   "cell_type": "markdown",
   "id": "d4808008",
   "metadata": {},
   "source": [
    "---"
   ]
  },
  {
   "cell_type": "markdown",
   "id": "ac00f85e",
   "metadata": {},
   "source": [
    "```Markdown\n",
    "$$\n",
    "\\int \\limits_{0}^{\\infty} f(x) \\, \\mathrm{d} x\n",
    "$$\n",
    "```"
   ]
  },
  {
   "cell_type": "markdown",
   "id": "8ffa2116",
   "metadata": {},
   "source": [
    "$$\n",
    "\\int \\limits_{0}^{\\infty} f(x) \\, \\mathrm{d} x\n",
    "$$"
   ]
  },
  {
   "cell_type": "markdown",
   "id": "e69dcf2c",
   "metadata": {},
   "source": [
    "---"
   ]
  },
  {
   "cell_type": "markdown",
   "id": "dd900869",
   "metadata": {},
   "source": [
    "```Markdown\n",
    "$$\n",
    "A \\times B\n",
    "$$\n",
    "```"
   ]
  },
  {
   "cell_type": "markdown",
   "id": "c011734e",
   "metadata": {},
   "source": [
    "$$\n",
    "A \\times B\n",
    "$$"
   ]
  },
  {
   "cell_type": "markdown",
   "id": "4847678b",
   "metadata": {},
   "source": [
    "---"
   ]
  },
  {
   "cell_type": "markdown",
   "id": "1fcd88be",
   "metadata": {},
   "source": [
    "```Markdown\n",
    "$$\n",
    "P(A \\mid B)\n",
    "$$\n",
    "```"
   ]
  },
  {
   "cell_type": "markdown",
   "id": "13a9e2f2",
   "metadata": {},
   "source": [
    "$$\n",
    "P(A \\mid B)\n",
    "$$"
   ]
  },
  {
   "cell_type": "markdown",
   "id": "7a7d4b42",
   "metadata": {},
   "source": [
    "---"
   ]
  },
  {
   "cell_type": "markdown",
   "id": "7031cfec",
   "metadata": {},
   "source": [
    "```Markdown\n",
    "$$\n",
    "\\underbrace{ a + b + \\cdots + z }_{26}\n",
    "$$\n",
    "```"
   ]
  },
  {
   "cell_type": "markdown",
   "id": "29217dbe",
   "metadata": {},
   "source": [
    "$$\n",
    "\\underbrace{ a + b + \\cdots + z }_{26}\n",
    "$$"
   ]
  },
  {
   "cell_type": "markdown",
   "id": "e4a5aa53",
   "metadata": {},
   "source": [
    "---"
   ]
  },
  {
   "cell_type": "markdown",
   "id": "0f2c182e",
   "metadata": {},
   "source": [
    "```Markdown\n",
    "$$\n",
    "x = \\begin{cases}\n",
    "    R^2 & \\text{if } k > 0 \\\\\n",
    "    0 & \\text{if } k = 0 \\\\\n",
    "    1 & \\text{otherwise}\n",
    "    \\end{cases}\n",
    "$$\n",
    "```"
   ]
  },
  {
   "cell_type": "markdown",
   "id": "6916284c",
   "metadata": {},
   "source": [
    "$$\n",
    "x = \\begin{cases}\n",
    "    R^2 & \\text{if } k > 0 \\\\\n",
    "    0 & \\text{if } k = 0 \\\\\n",
    "    1 & \\text{otherwise}\n",
    "    \\end{cases}\n",
    "$$"
   ]
  },
  {
   "cell_type": "markdown",
   "id": "402366de",
   "metadata": {},
   "source": [
    "---\n",
    "---\n",
    "---"
   ]
  },
  {
   "cell_type": "code",
   "execution_count": 3,
   "id": "8b784be2",
   "metadata": {},
   "outputs": [
    {
     "data": {
      "text/plain": [
       "'/Users/daniilmanuilov/Documents/Learning/Python/math-for-data-science'"
      ]
     },
     "execution_count": 3,
     "metadata": {},
     "output_type": "execute_result"
    }
   ],
   "source": [
    "import os\n",
    "os.getcwd()"
   ]
  },
  {
   "cell_type": "code",
   "execution_count": null,
   "id": "c33eb1df",
   "metadata": {},
   "outputs": [],
   "source": []
  }
 ],
 "metadata": {
  "kernelspec": {
   "display_name": "Python 3 (ipykernel)",
   "language": "python",
   "name": "python3"
  },
  "language_info": {
   "codemirror_mode": {
    "name": "ipython",
    "version": 3
   },
   "file_extension": ".py",
   "mimetype": "text/x-python",
   "name": "python",
   "nbconvert_exporter": "python",
   "pygments_lexer": "ipython3",
   "version": "3.9.7"
  }
 },
 "nbformat": 4,
 "nbformat_minor": 5
}
