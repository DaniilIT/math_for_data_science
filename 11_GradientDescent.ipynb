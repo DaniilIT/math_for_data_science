{
 "cells": [
  {
   "cell_type": "code",
   "execution_count": 1,
   "id": "0b87cb72",
   "metadata": {},
   "outputs": [],
   "source": [
    "import numpy as np\n",
    "import sympy as sp\n",
    "import matplotlib.pyplot as plt\n",
    "%matplotlib inline"
   ]
  },
  {
   "cell_type": "code",
   "execution_count": 2,
   "id": "7b2cd448",
   "metadata": {},
   "outputs": [],
   "source": [
    "from IPython.display import display, Latex\n",
    "\n",
    "def display_func(s, f):\n",
    "    tex = '$ {} = {} $'.format(s, sp.latex(f))\n",
    "    display(Latex(tex))"
   ]
  },
  {
   "cell_type": "code",
   "execution_count": 3,
   "id": "e86af790",
   "metadata": {},
   "outputs": [],
   "source": [
    "a2, a1, a0 = sp.symbols('a2, a1, a0')\n",
    "x2, x1 = sp.symbols('x2, x1')"
   ]
  },
  {
   "cell_type": "markdown",
   "id": "a3a6980d",
   "metadata": {},
   "source": [
    "|x_2 |x_1 |y   |\n",
    "|:-: |:-: |:-: |\n",
    "|1   |2   |5   |\n",
    "|5   |3   |6   |\n",
    "|2   |4   |10  |\n",
    "|3   |7   |8   |"
   ]
  },
  {
   "cell_type": "code",
   "execution_count": 4,
   "id": "c02a389d",
   "metadata": {},
   "outputs": [
    {
     "data": {
      "text/latex": [
       "$ f(x1, x2) = a_{0} + a_{1} x_{1} + a_{2} x_{2} $"
      ],
      "text/plain": [
       "<IPython.core.display.Latex object>"
      ]
     },
     "metadata": {},
     "output_type": "display_data"
    }
   ],
   "source": [
    "f = a2*x2 + a1*x1 + a0\n",
    "display_func(\"f(x1, x2)\", f)"
   ]
  },
  {
   "cell_type": "code",
   "execution_count": 5,
   "id": "3f7149d6",
   "metadata": {},
   "outputs": [
    {
     "data": {
      "text/latex": [
       "$ f1 = a_{0} + 2 a_{1} + a_{2} $"
      ],
      "text/plain": [
       "<IPython.core.display.Latex object>"
      ]
     },
     "metadata": {},
     "output_type": "display_data"
    },
    {
     "data": {
      "text/latex": [
       "$ f2 = a_{0} + 3 a_{1} + 5 a_{2} $"
      ],
      "text/plain": [
       "<IPython.core.display.Latex object>"
      ]
     },
     "metadata": {},
     "output_type": "display_data"
    },
    {
     "data": {
      "text/latex": [
       "$ f3 = a_{0} + 4 a_{1} + 2 a_{2} $"
      ],
      "text/plain": [
       "<IPython.core.display.Latex object>"
      ]
     },
     "metadata": {},
     "output_type": "display_data"
    },
    {
     "data": {
      "text/latex": [
       "$ f4 = a_{0} + 7 a_{1} + 3 a_{2} $"
      ],
      "text/plain": [
       "<IPython.core.display.Latex object>"
      ]
     },
     "metadata": {},
     "output_type": "display_data"
    }
   ],
   "source": [
    "f1 = f.subs({x2: 1, x1: 2})\n",
    "f2 = f.subs({x2: 5, x1: 3})\n",
    "f3 = f.subs({x2: 2, x1: 4})\n",
    "f4 = f.subs({x2: 3, x1: 7})\n",
    "display_func(\"f1\", f1)\n",
    "display_func(\"f2\", f2)\n",
    "display_func(\"f3\", f3)\n",
    "display_func(\"f4\", f4)"
   ]
  },
  {
   "cell_type": "code",
   "execution_count": 6,
   "id": "7a148fcc",
   "metadata": {},
   "outputs": [
    {
     "data": {
      "text/latex": [
       "$ MSE = \\frac{\\left(- a_{0} - 7 a_{1} - 3 a_{2} + 8\\right)^{2}}{4} + \\frac{\\left(- a_{0} - 4 a_{1} - 2 a_{2} + 10\\right)^{2}}{4} + \\frac{\\left(- a_{0} - 3 a_{1} - 5 a_{2} + 6\\right)^{2}}{4} + \\frac{\\left(- a_{0} - 2 a_{1} - a_{2} + 5\\right)^{2}}{4} $"
      ],
      "text/plain": [
       "<IPython.core.display.Latex object>"
      ]
     },
     "metadata": {},
     "output_type": "display_data"
    }
   ],
   "source": [
    "MSE = 1/4 * ((5 - f1)**2 + (6 - f2)**2 + (10 - f3)**2 + (8 - f4)**2)\n",
    "MSE = sp.nsimplify(MSE)\n",
    "display_func(\"MSE\", MSE)"
   ]
  },
  {
   "cell_type": "code",
   "execution_count": 7,
   "id": "0e1314fd",
   "metadata": {},
   "outputs": [
    {
     "data": {
      "text/latex": [
       "$ MSEa_0 = 2 a_{0} + 8 a_{1} + \\frac{11 a_{2}}{2} - \\frac{29}{2} $"
      ],
      "text/plain": [
       "<IPython.core.display.Latex object>"
      ]
     },
     "metadata": {},
     "output_type": "display_data"
    },
    {
     "data": {
      "text/latex": [
       "$ MSEa_1 = 8 a_{0} + 39 a_{1} + 23 a_{2} - 62 $"
      ],
      "text/plain": [
       "<IPython.core.display.Latex object>"
      ]
     },
     "metadata": {},
     "output_type": "display_data"
    },
    {
     "data": {
      "text/latex": [
       "$ MSEa_2 = \\frac{11 a_{0}}{2} + 23 a_{1} + \\frac{39 a_{2}}{2} - \\frac{79}{2} $"
      ],
      "text/plain": [
       "<IPython.core.display.Latex object>"
      ]
     },
     "metadata": {},
     "output_type": "display_data"
    }
   ],
   "source": [
    "MSEa0 = MSE.diff(a0)\n",
    "MSEa1 = MSE.diff(a1)\n",
    "MSEa2 = MSE.diff(a2)\n",
    "display_func(\"MSEa_0\", MSEa0)\n",
    "display_func(\"MSEa_1\", MSEa1)\n",
    "display_func(\"MSEa_2\", MSEa2)"
   ]
  },
  {
   "cell_type": "markdown",
   "id": "7af51f5d",
   "metadata": {},
   "source": [
    "решать грамоздкую систему линейных уравнений долго"
   ]
  },
  {
   "cell_type": "markdown",
   "id": "e1d5768e",
   "metadata": {},
   "source": [
    "Воспользуемся фактом, что вектор, составленный из частных производных (**градиент**), напрвлен в сторону возрастания функции"
   ]
  },
  {
   "cell_type": "markdown",
   "id": "8376ddb3",
   "metadata": {},
   "source": [
    "$$\n",
    "\\vec p_{n+1} = \\vec p_n - \\gamma \\cdot \\nabla F(\\vec p_n)\n",
    "$$"
   ]
  },
  {
   "cell_type": "code",
   "execution_count": 8,
   "id": "ffcee9cc",
   "metadata": {},
   "outputs": [],
   "source": [
    "point = np.array([0, 0, 0])\n",
    "step = 0.01\n",
    "M = list()\n",
    "n = 0"
   ]
  },
  {
   "cell_type": "code",
   "execution_count": 9,
   "id": "722afcd6",
   "metadata": {},
   "outputs": [],
   "source": [
    "while True:\n",
    "    n += 1\n",
    "    grad = np.array([MSEa0.subs({a0: point[0], a1: point[1], a2: point[2]}), \\\n",
    "                     MSEa1.subs({a0: point[0], a1: point[1], a2: point[2]}), \\\n",
    "                     MSEa2.subs({a0: point[0], a1: point[1], a2: point[2]})])\n",
    "    point = point - step * grad\n",
    "    \n",
    "    m = MSE.subs({a0: point[0], a1: point[1], a2: point[2]})\n",
    "    M.append(m)\n",
    "    if m < 5.5:\n",
    "        break"
   ]
  },
  {
   "cell_type": "code",
   "execution_count": 10,
   "id": "ee91af51",
   "metadata": {},
   "outputs": [
    {
     "name": "stdout",
     "output_type": "stream",
     "text": [
      "28\n",
      "5.49936604658629\n",
      "[0.578696385845573 1.17204456767652 0.504435372166894]\n"
     ]
    }
   ],
   "source": [
    "print(n)\n",
    "print(MSE.subs({a0: point[0], a1: point[1], a2: point[2]}))\n",
    "print(point)"
   ]
  },
  {
   "cell_type": "code",
   "execution_count": 11,
   "id": "07b8e3a0",
   "metadata": {},
   "outputs": [
    {
     "data": {
      "text/latex": [
       "$ f(x2, x1) = 1.17204456767652 x_{1} + 0.504435372166894 x_{2} + 0.578696385845573 $"
      ],
      "text/plain": [
       "<IPython.core.display.Latex object>"
      ]
     },
     "metadata": {},
     "output_type": "display_data"
    }
   ],
   "source": [
    "f = f.subs({a0: point[0], a1: point[1], a2: point[2]})\n",
    "display_func(\"f(x2, x1)\", f)"
   ]
  },
  {
   "cell_type": "code",
   "execution_count": 12,
   "id": "e3c77fec",
   "metadata": {},
   "outputs": [
    {
     "data": {
      "image/png": "[encoded data removed]",
      "text/plain": [
       "<Figure size 432x288 with 1 Axes>"
      ]
     },
     "metadata": {
      "needs_background": "light"
     },
     "output_type": "display_data"
    }
   ],
   "source": [
    "X = [i for i in range(n)]\n",
    "plt.scatter(X, M, c='k')\n",
    "plt.plot(X, M, 'b')\n",
    "plt.title('MSE')\n",
    "plt.show();"
   ]
  },
  {
   "cell_type": "markdown",
   "id": "9c8c4f66",
   "metadata": {},
   "source": [
    "---\n",
    "---\n",
    "---"
   ]
  },
  {
   "cell_type": "markdown",
   "id": "1fcf9c9c",
   "metadata": {},
   "source": [
    "$$\n",
    "\\begin{cases}\n",
    "    5 x + 7 y - 5 z = -47 \\\\\n",
    "    -2 y + 2 z = 10 \\\\\n",
    "    -4 x - 8 y - 7 z = 63 \\\\\n",
    "    x + y + 2 z = -1 \\\\\n",
    "    2 x - y + 2 z = -4 \\\\\n",
    "    4 x + y + 4 z = -2\n",
    "\\end{cases}\n",
    "$$"
   ]
  },
  {
   "cell_type": "code",
   "execution_count": 13,
   "id": "c222bf11",
   "metadata": {},
   "outputs": [
    {
     "data": {
      "text/latex": [
       "$ f(a1, a2, a3) = a_{1} x + a_{2} y + a_{3} z $"
      ],
      "text/plain": [
       "<IPython.core.display.Latex object>"
      ]
     },
     "metadata": {},
     "output_type": "display_data"
    }
   ],
   "source": [
    "a1, a2, a3 = sp.symbols('a1, a2, a3')\n",
    "x, y, z = sp.symbols('x, y, z')\n",
    "f = a1*x + a2*y + a3*z\n",
    "display_func(\"f(a1, a2, a3)\", f)"
   ]
  },
  {
   "cell_type": "code",
   "execution_count": 14,
   "id": "22c8415c",
   "metadata": {},
   "outputs": [
    {
     "data": {
      "text/latex": [
       "$ f1 = 5 x + 7 y - 5 z $"
      ],
      "text/plain": [
       "<IPython.core.display.Latex object>"
      ]
     },
     "metadata": {},
     "output_type": "display_data"
    },
    {
     "data": {
      "text/latex": [
       "$ f2 = - 2 y + 2 z $"
      ],
      "text/plain": [
       "<IPython.core.display.Latex object>"
      ]
     },
     "metadata": {},
     "output_type": "display_data"
    },
    {
     "data": {
      "text/latex": [
       "$ f3 = - 4 x - 8 y - 7 z $"
      ],
      "text/plain": [
       "<IPython.core.display.Latex object>"
      ]
     },
     "metadata": {},
     "output_type": "display_data"
    },
    {
     "data": {
      "text/latex": [
       "$ f4 = x + y + 2 z $"
      ],
      "text/plain": [
       "<IPython.core.display.Latex object>"
      ]
     },
     "metadata": {},
     "output_type": "display_data"
    },
    {
     "data": {
      "text/latex": [
       "$ f5 = 2 x - y + 2 z $"
      ],
      "text/plain": [
       "<IPython.core.display.Latex object>"
      ]
     },
     "metadata": {},
     "output_type": "display_data"
    },
    {
     "data": {
      "text/latex": [
       "$ f6 = 4 x + y + 4 z $"
      ],
      "text/plain": [
       "<IPython.core.display.Latex object>"
      ]
     },
     "metadata": {},
     "output_type": "display_data"
    }
   ],
   "source": [
    "f1 = f.subs({a1: 5, a2: 7, a3: -5})\n",
    "f2 = f.subs({a1: 0, a2: -2, a3: 2})\n",
    "f3 = f.subs({a1: -4, a2: -8, a3: -7})\n",
    "f4 = f.subs({a1: 1, a2: 1, a3: 2})\n",
    "f5 = f.subs({a1: 2, a2: -1, a3: 2})\n",
    "f6 = f.subs({a1: 4, a2: 1, a3: 4})\n",
    "display_func(\"f1\", f1)\n",
    "display_func(\"f2\", f2)\n",
    "display_func(\"f3\", f3)\n",
    "display_func(\"f4\", f4)\n",
    "display_func(\"f5\", f5)\n",
    "display_func(\"f6\", f6)"
   ]
  },
  {
   "cell_type": "code",
   "execution_count": 15,
   "id": "47a5649b",
   "metadata": {},
   "outputs": [
    {
     "data": {
      "text/latex": [
       "$ MSE = \\frac{\\left(2 y - 2 z + 10\\right)^{2}}{6} + \\frac{\\left(- 5 x - 7 y + 5 z - 47\\right)^{2}}{6} + \\frac{\\left(- 4 x - y - 4 z - 2\\right)^{2}}{6} + \\frac{\\left(- 2 x + y - 2 z - 4\\right)^{2}}{6} + \\frac{\\left(- x - y - 2 z - 1\\right)^{2}}{6} + \\frac{\\left(4 x + 8 y + 7 z + 63\\right)^{2}}{6} $"
      ],
      "text/plain": [
       "<IPython.core.display.Latex object>"
      ]
     },
     "metadata": {},
     "output_type": "display_data"
    }
   ],
   "source": [
    "MSE = 1/6 * ((-47 - f1)**2 + (10 - f2)**2 + (63 - f3)**2 + (-1 - f4)**2 + (-4 - f5)**2 + (-2 - f6)**2)\n",
    "MSE = sp.nsimplify(MSE)\n",
    "display_func(\"MSE\", MSE)"
   ]
  },
  {
   "cell_type": "code",
   "execution_count": 16,
   "id": "791d8054",
   "metadata": {},
   "outputs": [
    {
     "data": {
      "text/latex": [
       "$ MSE'_x = \\frac{62 x}{3} + \\frac{70 y}{3} + \\frac{25 z}{3} + 168 $"
      ],
      "text/plain": [
       "<IPython.core.display.Latex object>"
      ]
     },
     "metadata": {},
     "output_type": "display_data"
    },
    {
     "data": {
      "text/latex": [
       "$ MSE'_y = \\frac{70 x}{3} + 40 y + 7 z + 284 $"
      ],
      "text/plain": [
       "<IPython.core.display.Latex object>"
      ]
     },
     "metadata": {},
     "output_type": "display_data"
    },
    {
     "data": {
      "text/latex": [
       "$ MSE'_z = \\frac{25 x}{3} + 7 y + 34 z + 68 $"
      ],
      "text/plain": [
       "<IPython.core.display.Latex object>"
      ]
     },
     "metadata": {},
     "output_type": "display_data"
    }
   ],
   "source": [
    "MSEx = MSE.diff(x)\n",
    "MSEy = MSE.diff(y)\n",
    "MSEz = MSE.diff(z)\n",
    "display_func(\"MSE'_x\", MSEx)\n",
    "display_func(\"MSE'_y\", MSEy)\n",
    "display_func(\"MSE'_z\", MSEz)"
   ]
  },
  {
   "cell_type": "code",
   "execution_count": 17,
   "id": "734a35d9",
   "metadata": {},
   "outputs": [],
   "source": [
    "point = np.array([0, 0, 0])\n",
    "step = 0.01\n",
    "M = list()\n",
    "n = 0"
   ]
  },
  {
   "cell_type": "code",
   "execution_count": 18,
   "id": "97b36971",
   "metadata": {},
   "outputs": [],
   "source": [
    "while True:\n",
    "    n += 1\n",
    "    grad = np.array([MSEx.subs({x: point[0], y: point[1], z: point[2]}), \\\n",
    "                     MSEy.subs({x: point[0], y: point[1], z: point[2]}), \\\n",
    "                     MSEz.subs({x: point[0], y: point[1], z: point[2]})])\n",
    "    point = point - step * grad\n",
    "    \n",
    "    m = MSE.subs({x: point[0], y: point[1], z: point[2]})\n",
    "    M.append(m)\n",
    "    if n == 100:\n",
    "        break"
   ]
  },
  {
   "cell_type": "code",
   "execution_count": 19,
   "id": "7ec930c8",
   "metadata": {},
   "outputs": [
    {
     "name": "stdout",
     "output_type": "stream",
     "text": [
      "100\n",
      "36.5263766696089\n",
      "[-0.0188143941082902 -6.98987988081658 -0.555834890871063]\n"
     ]
    }
   ],
   "source": [
    "print(n)\n",
    "print(MSE.subs({x: point[0], y: point[1], z: point[2]}))\n",
    "print(point)"
   ]
  },
  {
   "cell_type": "code",
   "execution_count": 20,
   "id": "4a82a46f",
   "metadata": {},
   "outputs": [
    {
     "data": {
      "image/png": "[encoded data removed]",
      "text/plain": [
       "<Figure size 432x288 with 1 Axes>"
      ]
     },
     "metadata": {
      "needs_background": "light"
     },
     "output_type": "display_data"
    }
   ],
   "source": [
    "X = [i for i in range(n)]\n",
    "plt.plot(X, M, 'b')\n",
    "plt.title('MSE')\n",
    "plt.show();"
   ]
  },
  {
   "cell_type": "code",
   "execution_count": 21,
   "id": "f1edf0a7",
   "metadata": {},
   "outputs": [
    {
     "data": {
      "text/latex": [
       "$ x = -0.01881 $"
      ],
      "text/plain": [
       "<IPython.core.display.Latex object>"
      ]
     },
     "metadata": {},
     "output_type": "display_data"
    },
    {
     "data": {
      "text/latex": [
       "$ y = -6.99 $"
      ],
      "text/plain": [
       "<IPython.core.display.Latex object>"
      ]
     },
     "metadata": {},
     "output_type": "display_data"
    },
    {
     "data": {
      "text/latex": [
       "$ z = -0.5558 $"
      ],
      "text/plain": [
       "<IPython.core.display.Latex object>"
      ]
     },
     "metadata": {},
     "output_type": "display_data"
    }
   ],
   "source": [
    "display_func(\"x\", point[0].evalf(4))\n",
    "display_func(\"y\", point[1].evalf(4))\n",
    "display_func(\"z\", point[2].evalf(4))"
   ]
  },
  {
   "cell_type": "markdown",
   "id": "60406d34",
   "metadata": {},
   "source": [
    "---\n",
    "---\n",
    "---"
   ]
  },
  {
   "cell_type": "code",
   "execution_count": null,
   "id": "de9b14d1",
   "metadata": {},
   "outputs": [],
   "source": []
  }
 ],
 "metadata": {
  "kernelspec": {
   "display_name": "Python 3 (ipykernel)",
   "language": "python",
   "name": "python3"
  },
  "language_info": {
   "codemirror_mode": {
    "name": "ipython",
    "version": 3
   },
   "file_extension": ".py",
   "mimetype": "text/x-python",
   "name": "python",
   "nbconvert_exporter": "python",
   "pygments_lexer": "ipython3",
   "version": "3.9.7"
  }
 },
 "nbformat": 4,
 "nbformat_minor": 5
}
