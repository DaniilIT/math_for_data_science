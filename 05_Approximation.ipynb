{
 "cells": [
  {
   "cell_type": "code",
   "execution_count": 1,
   "id": "62a869cc",
   "metadata": {},
   "outputs": [],
   "source": [
    "import numpy as np\n",
    "import sympy as sp\n",
    "import matplotlib.pyplot as plt\n",
    "%matplotlib inline"
   ]
  },
  {
   "cell_type": "markdown",
   "id": "30e0e4ba",
   "metadata": {},
   "source": [
    "**Аппроксимация** - (как и интерполяция) это метод нахождения новых точек данных на основе диапазона дискретного набора известных точек данных."
   ]
  },
  {
   "cell_type": "markdown",
   "id": "84937d0e",
   "metadata": {},
   "source": [
    "**Аппроксимация** – это замена исходной функции $f(x)$ приближенной функцией $\\varphi(x)$ так, чтобы отклонение $f(x)$ от $\\varphi(x)$ было наименьшим."
   ]
  },
  {
   "cell_type": "markdown",
   "id": "00c9c15b",
   "metadata": {},
   "source": [
    "**MSE** - cредняя квадратическая ошибка. \\\n",
    "функция потерь\n",
    "$$ MSE = \\frac{\\sum\\limits_{i=1}^{\\infty}(y_i - f(x_i))^2}{n} $$"
   ]
  },
  {
   "cell_type": "markdown",
   "id": "f64d0ad4",
   "metadata": {},
   "source": [
    "**RMSE** - среднеквадратическая ошибка. \\\n",
    "масштаб ошибок такой же, как масштаб целей\n",
    "$$ RMSE = \\sqrt{MSE} $$"
   ]
  },
  {
   "cell_type": "code",
   "execution_count": 2,
   "id": "e6d7c8e6",
   "metadata": {},
   "outputs": [],
   "source": [
    "def MSE(f, points_X, points_Y):\n",
    "    pred_Y  = [f(x) for x in points_X]\n",
    "    return sum(np.subtract(points_Y, pred_Y)**2) / len(points_X)"
   ]
  },
  {
   "cell_type": "code",
   "execution_count": 3,
   "id": "5bd77bc6",
   "metadata": {},
   "outputs": [],
   "source": [
    "def my_plot(X, Y, points_X, points_Y, lim_x, lim_y):\n",
    "    plt.figure()\n",
    "    plt.xlim(0, lim_x)\n",
    "    plt.ylim(0, lim_y)\n",
    "\n",
    "    plt.scatter(points_X, points_Y, c='r')\n",
    "    plt.plot(X, Y, 'b')\n",
    "    plt.show();"
   ]
  },
  {
   "cell_type": "markdown",
   "id": "a06d6b64",
   "metadata": {},
   "source": [
    "---"
   ]
  },
  {
   "cell_type": "code",
   "execution_count": 4,
   "id": "c25393ea",
   "metadata": {},
   "outputs": [],
   "source": [
    "points_X = [2, 4, 8]\n",
    "points_Y = [12.258, 17.24, 30.151]"
   ]
  },
  {
   "cell_type": "code",
   "execution_count": 5,
   "id": "6f5ce829",
   "metadata": {},
   "outputs": [],
   "source": [
    "def f(x):\n",
    "    return 3*x + 5"
   ]
  },
  {
   "cell_type": "code",
   "execution_count": 6,
   "id": "aaef49b4",
   "metadata": {},
   "outputs": [
    {
     "data": {
      "image/png": "[encoded data removed]",
      "text/plain": [
       "<Figure size 432x288 with 1 Axes>"
      ]
     },
     "metadata": {
      "needs_background": "light"
     },
     "output_type": "display_data"
    }
   ],
   "source": [
    "X = np.arange(0, 10, 0.1)\n",
    "Y = [f(x) for x in X]\n",
    "\n",
    "my_plot(X, Y, points_X, points_Y, 10, 40)"
   ]
  },
  {
   "cell_type": "code",
   "execution_count": 7,
   "id": "9f0c8573",
   "metadata": {},
   "outputs": [
    {
     "data": {
      "text/plain": [
       "0.9883216666666655"
      ]
     },
     "execution_count": 7,
     "metadata": {},
     "output_type": "execute_result"
    }
   ],
   "source": [
    "MSE(f, points_X, points_Y)"
   ]
  },
  {
   "cell_type": "markdown",
   "id": "16f6f344",
   "metadata": {},
   "source": [
    "---"
   ]
  },
  {
   "cell_type": "code",
   "execution_count": 8,
   "id": "02f39519",
   "metadata": {},
   "outputs": [],
   "source": [
    "points_X = [2, 4, 8, 10, 12]\n",
    "points_Y = [4.872, 29.707, 246.971, 485.727, 840.658]"
   ]
  },
  {
   "cell_type": "code",
   "execution_count": 9,
   "id": "3bb706c2",
   "metadata": {},
   "outputs": [
    {
     "data": {
      "image/png": "[encoded data removed]",
      "text/plain": [
       "<Figure size 432x288 with 1 Axes>"
      ]
     },
     "metadata": {
      "needs_background": "light"
     },
     "output_type": "display_data"
    }
   ],
   "source": [
    "X = np.arange(0, 15, 0.1)\n",
    "Y = [0.5*x**3 - 0.25*x**2 + 0.75*x + 1.25 for x in X]\n",
    "\n",
    "my_plot(X, Y, points_X, points_Y, 15, 1000)"
   ]
  },
  {
   "cell_type": "code",
   "execution_count": 10,
   "id": "eccfa6fe",
   "metadata": {},
   "outputs": [
    {
     "data": {
      "text/plain": [
       "3.404513399999994"
      ]
     },
     "execution_count": 10,
     "metadata": {},
     "output_type": "execute_result"
    }
   ],
   "source": [
    "MSE(lambda x: 0.5*x**3 - 0.25*x**2 + 0.75*x + 1.25, points_X, points_Y)"
   ]
  },
  {
   "cell_type": "markdown",
   "id": "5e31dcae",
   "metadata": {},
   "source": [
    "---"
   ]
  },
  {
   "cell_type": "code",
   "execution_count": 11,
   "id": "c11bd7c9",
   "metadata": {},
   "outputs": [],
   "source": [
    "points_X = [1, 2, 3, 4, 6, 8]\n",
    "points_Y = [1, 1.7, 3.3, 4.05, 5.95, 8.2]"
   ]
  },
  {
   "cell_type": "code",
   "execution_count": 12,
   "id": "64b8d2df",
   "metadata": {},
   "outputs": [],
   "source": [
    "x, a5, a4, a3, a2, a1, a0 = sp.symbols('x, a5, a4, a3, a2, a1, a0')"
   ]
  },
  {
   "cell_type": "code",
   "execution_count": 13,
   "id": "ab418184",
   "metadata": {},
   "outputs": [
    {
     "data": {
      "text/latex": [
       "$\\displaystyle a_{0} + a_{1} x + a_{2} x^{2} + a_{3} x^{3} + a_{4} x^{4} + a_{5} x^{5}$"
      ],
      "text/plain": [
       "a0 + a1*x + a2*x**2 + a3*x**3 + a4*x**4 + a5*x**5"
      ]
     },
     "execution_count": 13,
     "metadata": {},
     "output_type": "execute_result"
    }
   ],
   "source": [
    "f = a5*x**5 + a4*x**4 + a3*x**3 + a2*x**2 + a1*x + a0\n",
    "f"
   ]
  },
  {
   "cell_type": "code",
   "execution_count": 14,
   "id": "f1f23e1e",
   "metadata": {},
   "outputs": [
    {
     "name": "stdout",
     "output_type": "stream",
     "text": [
      "a0 + a1 + a2 + a3 + a4 + a5 - 1\n",
      "a0 + 2*a1 + 4*a2 + 8*a3 + 16*a4 + 32*a5 - 1.7\n",
      "a0 + 3*a1 + 9*a2 + 27*a3 + 81*a4 + 243*a5 - 3.3\n",
      "a0 + 4*a1 + 16*a2 + 64*a3 + 256*a4 + 1024*a5 - 4.05\n",
      "a0 + 6*a1 + 36*a2 + 216*a3 + 1296*a4 + 7776*a5 - 5.95\n",
      "a0 + 8*a1 + 64*a2 + 512*a3 + 4096*a4 + 32768*a5 - 8.2\n"
     ]
    }
   ],
   "source": [
    "eq1 = f.subs(x, 1) - 1\n",
    "print(eq1)\n",
    "eq2 = f.subs(x, 2) - 1.7\n",
    "print(eq2)\n",
    "eq3 = f.subs(x, 3) - 3.3\n",
    "print(eq3)\n",
    "eq4 = f.subs(x, 4) - 4.05\n",
    "print(eq4)\n",
    "eq5 = f.subs(x, 6) - 5.95\n",
    "print(eq5)\n",
    "eq6 = f.subs(x, 8) - 8.2\n",
    "print(eq6)"
   ]
  },
  {
   "cell_type": "code",
   "execution_count": 15,
   "id": "4537f81d",
   "metadata": {},
   "outputs": [
    {
     "data": {
      "text/latex": [
       "$\\displaystyle \\left\\{\\left( -0.0148809523809525, \\  0.321011904761909, \\  -2.53452380952384, \\  8.97113095238106, \\  -12.8255952380954, \\  7.08285714285723\\right)\\right\\}$"
      ],
      "text/plain": [
       "{(-0.0148809523809525, 0.321011904761909, -2.53452380952384, 8.97113095238106, -12.8255952380954, 7.08285714285723)}"
      ]
     },
     "execution_count": 15,
     "metadata": {},
     "output_type": "execute_result"
    }
   ],
   "source": [
    "coef = sp.linsolve([eq1, eq2, eq3, eq4, eq5, eq6], [a5, a4, a3, a2, a1, a0])\n",
    "coef"
   ]
  },
  {
   "cell_type": "code",
   "execution_count": 16,
   "id": "7973e9cb",
   "metadata": {},
   "outputs": [
    {
     "data": {
      "text/latex": [
       "$\\displaystyle - 0.0148809523809525 x^{5} + 0.321011904761909 x^{4} - 2.53452380952384 x^{3} + 8.97113095238106 x^{2} - 12.8255952380954 x + 7.08285714285723$"
      ],
      "text/plain": [
       "-0.0148809523809525*x**5 + 0.321011904761909*x**4 - 2.53452380952384*x**3 + 8.97113095238106*x**2 - 12.8255952380954*x + 7.08285714285723"
      ]
     },
     "execution_count": 16,
     "metadata": {},
     "output_type": "execute_result"
    }
   ],
   "source": [
    "f = f.subs({a5:coef.args[0][0], a4:coef.args[0][1], a3:coef.args[0][2], \\\n",
    "            a2:coef.args[0][3], a1:coef.args[0][4], a0:coef.args[0][5]})\n",
    "f"
   ]
  },
  {
   "cell_type": "code",
   "execution_count": 17,
   "id": "3e6055ef",
   "metadata": {},
   "outputs": [
    {
     "data": {
      "image/png": "[encoded data removed]",
      "text/plain": [
       "<Figure size 432x288 with 1 Axes>"
      ]
     },
     "metadata": {
      "needs_background": "light"
     },
     "output_type": "display_data"
    }
   ],
   "source": [
    "X = np.arange(0, 15, 0.1)\n",
    "Y1 = [f.subs(x, x0).evalf() for x0 in X]\n",
    "Y2 = [x0 for x0 in X]\n",
    "\n",
    "plt.figure()\n",
    "plt.xlim(0, 10)\n",
    "plt.ylim(0, 10)\n",
    "\n",
    "plt.scatter(points_X, points_Y, c='r')\n",
    "plt.plot(X, Y1, 'b')\n",
    "plt.plot(X, Y2, 'g')\n",
    "plt.show();"
   ]
  },
  {
   "cell_type": "code",
   "execution_count": 18,
   "id": "c7dd7f73",
   "metadata": {},
   "outputs": [
    {
     "data": {
      "text/plain": [
       "0.0"
      ]
     },
     "execution_count": 18,
     "metadata": {},
     "output_type": "execute_result"
    }
   ],
   "source": [
    "# синяя\n",
    "round(MSE(sp.lambdify(x, f), points_X, points_Y), 8)"
   ]
  },
  {
   "cell_type": "code",
   "execution_count": 19,
   "id": "9ed7763b",
   "metadata": {},
   "outputs": [
    {
     "data": {
      "text/plain": [
       "0.0375"
      ]
     },
     "execution_count": 19,
     "metadata": {},
     "output_type": "execute_result"
    }
   ],
   "source": [
    "# зеленая\n",
    "round(MSE(lambda x: x, points_X, points_Y), 8)"
   ]
  },
  {
   "cell_type": "markdown",
   "id": "cbb2a44e",
   "metadata": {},
   "source": [
    "---\n",
    "---\n",
    "---"
   ]
  },
  {
   "cell_type": "code",
   "execution_count": null,
   "id": "b12840a3",
   "metadata": {},
   "outputs": [],
   "source": []
  }
 ],
 "metadata": {
  "kernelspec": {
   "display_name": "Python 3 (ipykernel)",
   "language": "python",
   "name": "python3"
  },
  "language_info": {
   "codemirror_mode": {
    "name": "ipython",
    "version": 3
   },
   "file_extension": ".py",
   "mimetype": "text/x-python",
   "name": "python",
   "nbconvert_exporter": "python",
   "pygments_lexer": "ipython3",
   "version": "3.9.7"
  }
 },
 "nbformat": 4,
 "nbformat_minor": 5
}
