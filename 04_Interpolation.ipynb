{
 "cells": [
  {
   "cell_type": "code",
   "execution_count": 1,
   "id": "c5daaa32",
   "metadata": {},
   "outputs": [],
   "source": [
    "import numpy as np\n",
    "import sympy as sp\n",
    "from ipywidgets import interactive\n",
    "import matplotlib.pyplot as plt\n",
    "%matplotlib inline"
   ]
  },
  {
   "cell_type": "markdown",
   "id": "4f035eb5",
   "metadata": {},
   "source": [
    "**Интерполяция** - это метод нахождения новых точек данных на основе диапазона дискретного набора известных точек данных."
   ]
  },
  {
   "cell_type": "markdown",
   "id": "e897cdfc",
   "metadata": {},
   "source": [
    "**Интерполяция** – это замена исходной функции $f(x)$ функцией $\\varphi(x)$ так, чтобы $\\varphi(x)$ точно проходила через точки исходной функции $f(x)$."
   ]
  },
  {
   "cell_type": "markdown",
   "id": "08c7d419",
   "metadata": {},
   "source": [
    "**Полиномиальная интерполяция** - это интерполяция заданного набора данных полиномом наименьшей возможной степени, проходящим через точки набора данных."
   ]
  },
  {
   "cell_type": "markdown",
   "id": "825f344b",
   "metadata": {},
   "source": [
    "### Метод подбора коэффициентов"
   ]
  },
  {
   "cell_type": "code",
   "execution_count": 2,
   "id": "35c7309d",
   "metadata": {},
   "outputs": [],
   "source": [
    "# Вывести формулу\n",
    "def get_polyfunc_title(koefs):\n",
    "    s_koefs = ''.join([f'+{koefs[i]}x^{len(koefs)-i-1}' if koefs[i]>0 \n",
    "                       else f'{koefs[i]}x^{len(koefs)-i-1}' if koefs[i]<0 \n",
    "                       else ''\n",
    "                       for i in range(len(koefs))])\n",
    "    \n",
    "    expr = s_koefs.replace('x^0', '') \\\n",
    "                  .replace('+', ' + ') \\\n",
    "                  .replace('-', ' - ') \\\n",
    "                  .replace('x^1', 'x') \\\n",
    "                  .replace(' 1x', ' x')\n",
    "\n",
    "    if expr[:3]==' + ':\n",
    "        expr = expr[3:]\n",
    "\n",
    "    return '$f(x) = ' + expr + '$'"
   ]
  },
  {
   "cell_type": "code",
   "execution_count": 3,
   "id": "547711b9",
   "metadata": {},
   "outputs": [],
   "source": [
    "# Проверить формулу\n",
    "def check(f, x, y):\n",
    "    check = False not in [f(x[i])==y[i] for i in range(len(x))]\n",
    "    if not check:\n",
    "        print('Пока не получилось')\n",
    "    else:\n",
    "        print('Ура! Получилось!')"
   ]
  },
  {
   "cell_type": "markdown",
   "id": "adaec28f",
   "metadata": {},
   "source": [
    "```Python\n",
    "def linear(a, b):\n",
    "    plt.figure()\n",
    "    plt.axhline(0, color='black') # оси выходият из нуля координат\n",
    "    plt.axvline(0, color='black')\n",
    "\n",
    "    x, y = [x for x, y in points], [y for x, y in points]\n",
    "    plt.scatter(x, y, c='r')\n",
    "    \n",
    "    if a!=0:\n",
    "        f = lambda x: a * x + b\n",
    "        \n",
    "        check(f, x, y)\n",
    "            \n",
    "        x = np.linspace(-10, 10, num=1000)\n",
    "        plt.plot(x, a * x + b)\n",
    "        \n",
    "        \n",
    "    plt.ylim(-20, 20)\n",
    "    plt.xlim(-5, 5)\n",
    "    \n",
    "    plt.title(get_polyfunc_title([a,b]))\n",
    "    \n",
    "    plt.show()\n",
    "```"
   ]
  },
  {
   "cell_type": "code",
   "execution_count": 4,
   "id": "3ca3336e",
   "metadata": {},
   "outputs": [],
   "source": [
    "# Построить график\n",
    "def parabola(a, b, c, d):\n",
    "    plt.figure()\n",
    "    plt.axhline(0, color='black') # оси выходият из нуля координат\n",
    "    plt.axvline(0, color='black')\n",
    "\n",
    "    x, y = [x for x, y in points], [y for x, y in points]\n",
    "    plt.scatter(x, y, c='r')\n",
    "    \n",
    "    if a!=0:\n",
    "        f = lambda x: a * x**3 + b * x**2 + c * x + d\n",
    "        \n",
    "        check(f, x, y)\n",
    "            \n",
    "        x = np.linspace(-5, 5, num=1000)\n",
    "        plt.plot(x, a * x**3 + b * x**2 + c * x + d)\n",
    "        \n",
    "        \n",
    "    plt.ylim(-20, 20)\n",
    "    plt.xlim(-5, 5)\n",
    "    \n",
    "    plt.title(get_polyfunc_title([a,b,c,d]))\n",
    "    \n",
    "    plt.show();"
   ]
  },
  {
   "cell_type": "code",
   "execution_count": 5,
   "id": "750ca139",
   "metadata": {},
   "outputs": [
    {
     "data": {
      "application/vnd.jupyter.widget-view+json": {
       "model_id": "9811bb998a27433d95c55e84cb6b13dd",
       "version_major": 2,
       "version_minor": 0
      },
      "text/plain": [
       "interactive(children=(FloatSlider(value=0.0, description='a', max=10.0, min=-10.0, step=0.5), FloatSlider(valu…"
      ]
     },
     "metadata": {},
     "output_type": "display_data"
    }
   ],
   "source": [
    "points = [[-4, 14],\n",
    "          [-3, -3],\n",
    "          [-2, -10],\n",
    "          [-1, -10],\n",
    "          [-0.5, -8.3125],\n",
    "          [0, -6],\n",
    "          [0.5, -3.4375],\n",
    "          [1, -1],\n",
    "          [2, 2],\n",
    "          [3, 0],\n",
    "          [4, -10]]\n",
    "\n",
    "interactive_plot = interactive(parabola, a=(-10, 10, 0.5), b=(-10, 10, 0.5), c=(-10, 10, 0.5), d=(-10, 10, 0.5))\n",
    "output = interactive_plot.children[-1]\n",
    "output.layout.height = '300px'\n",
    "interactive_plot"
   ]
  },
  {
   "cell_type": "markdown",
   "id": "24598392",
   "metadata": {},
   "source": [
    "---"
   ]
  },
  {
   "cell_type": "markdown",
   "id": "78b0c358",
   "metadata": {},
   "source": [
    "Через $n$ точек гарантированно можно провести полином $n-1$ степени"
   ]
  },
  {
   "cell_type": "markdown",
   "id": "10e632d8",
   "metadata": {},
   "source": [
    "### Аналитическое решение"
   ]
  },
  {
   "cell_type": "code",
   "execution_count": 6,
   "id": "d42f9b55",
   "metadata": {},
   "outputs": [],
   "source": [
    "x, a3, a2, a1, a0 = sp.symbols('x, a3, a2, a1, a0')"
   ]
  },
  {
   "cell_type": "code",
   "execution_count": 7,
   "id": "29c30834",
   "metadata": {},
   "outputs": [
    {
     "data": {
      "text/latex": [
       "$\\displaystyle a_{0} + a_{1} x + a_{2} x^{2} + a_{3} x^{3}$"
      ],
      "text/plain": [
       "a0 + a1*x + a2*x**2 + a3*x**3"
      ]
     },
     "execution_count": 7,
     "metadata": {},
     "output_type": "execute_result"
    }
   ],
   "source": [
    "f = a3*x**3 + a2*x**2 + a1*x + a0\n",
    "f"
   ]
  },
  {
   "cell_type": "markdown",
   "id": "daab4302",
   "metadata": {},
   "source": [
    "Возьмем четыре точки:\n",
    "* $ (-4, 14) $\n",
    "* $ (-3, -3) $\n",
    "* $ (-2, -10) $\n",
    "* $ (-1, -10) $"
   ]
  },
  {
   "cell_type": "code",
   "execution_count": 8,
   "id": "92b61f3a",
   "metadata": {},
   "outputs": [
    {
     "name": "stdout",
     "output_type": "stream",
     "text": [
      "a0 - 4*a1 + 16*a2 - 64*a3 - 14\n",
      "a0 - 3*a1 + 9*a2 - 27*a3 + 3\n",
      "a0 - 2*a1 + 4*a2 - 8*a3 + 10\n",
      "a0 - a1 + a2 - a3 + 10\n"
     ]
    }
   ],
   "source": [
    "eq1 = f.subs(x, -4) - 14\n",
    "print(eq1)\n",
    "eq2 = f.subs(x, -3) + 3\n",
    "print(eq2)\n",
    "eq3 = f.subs(x, -2) + 10\n",
    "print(eq3)\n",
    "eq4 = f.subs(x, -1) + 10\n",
    "print(eq4)"
   ]
  },
  {
   "cell_type": "markdown",
   "id": "5b85319b",
   "metadata": {},
   "source": [
    "Решаем СЛАУ"
   ]
  },
  {
   "cell_type": "code",
   "execution_count": 9,
   "id": "9ae663ae",
   "metadata": {},
   "outputs": [
    {
     "data": {
      "text/latex": [
       "$\\displaystyle \\left\\{\\left( - \\frac{1}{2}, \\  \\frac{1}{2}, \\  5, \\  -6\\right)\\right\\}$"
      ],
      "text/plain": [
       "{(-1/2, 1/2, 5, -6)}"
      ]
     },
     "execution_count": 9,
     "metadata": {},
     "output_type": "execute_result"
    }
   ],
   "source": [
    "coef = sp.linsolve([eq1, eq2, eq3, eq4], [a3, a2, a1, a0])\n",
    "coef"
   ]
  },
  {
   "cell_type": "code",
   "execution_count": 10,
   "id": "e4da84d3",
   "metadata": {},
   "outputs": [
    {
     "data": {
      "text/latex": [
       "$\\displaystyle - \\frac{x^{3}}{2} + \\frac{x^{2}}{2} + 5 x - 6$"
      ],
      "text/plain": [
       "-x**3/2 + x**2/2 + 5*x - 6"
      ]
     },
     "execution_count": 10,
     "metadata": {},
     "output_type": "execute_result"
    }
   ],
   "source": [
    "f = f.subs({a3:coef.args[0][0], a2:coef.args[0][1], a1:coef.args[0][2], a0:coef.args[0][3]})\n",
    "f"
   ]
  },
  {
   "cell_type": "code",
   "execution_count": 11,
   "id": "4d045c6f",
   "metadata": {},
   "outputs": [
    {
     "data": {
      "image/png": "[encoded data removed]",
      "text/plain": [
       "<Figure size 432x288 with 1 Axes>"
      ]
     },
     "metadata": {
      "needs_background": "light"
     },
     "output_type": "display_data"
    }
   ],
   "source": [
    "points_X = [-4, -3, -2, -1, -0.5, 0, 0.5, 1, 2, 3, 4]\n",
    "points_Y = [14, -3, -10, -10, -8.3125, -6, -3.4375, -1, 2, 0, -10]\n",
    "\n",
    "X = np.arange(-5, 5, 0.01)\n",
    "Y = [f.subs(x, i).evalf() for i in X]\n",
    "\n",
    "plt.figure()\n",
    "plt.axhline(0, color='black') # оси выходият из нуля координат\n",
    "plt.axvline(0, color='black')\n",
    "plt.ylim(-20, 20)\n",
    "plt.xlim(-5, 5)\n",
    "\n",
    "plt.scatter(points_X, points_Y, c='r')\n",
    "plt.plot(X, Y, 'b')\n",
    "plt.show();"
   ]
  },
  {
   "cell_type": "code",
   "execution_count": 12,
   "id": "76fcc7da",
   "metadata": {},
   "outputs": [
    {
     "data": {
      "text/plain": [
       "[3.00000000000000, 1.23606797749979, -3.23606797749979]"
      ]
     },
     "execution_count": 12,
     "metadata": {},
     "output_type": "execute_result"
    }
   ],
   "source": [
    "roots = [root.evalf() for root in sp.solve(f)]\n",
    "roots"
   ]
  },
  {
   "cell_type": "code",
   "execution_count": 13,
   "id": "652628e1",
   "metadata": {},
   "outputs": [
    {
     "data": {
      "text/latex": [
       "$\\displaystyle \\left(-\\infty < x \\wedge x < - \\sqrt{5} - 1\\right) \\vee \\left(x < 3 \\wedge -1 + \\sqrt{5} < x\\right)$"
      ],
      "text/plain": [
       "((x < 3) & (-1 + sqrt(5) < x)) | ((-oo < x) & (x < -sqrt(5) - 1))"
      ]
     },
     "execution_count": 13,
     "metadata": {},
     "output_type": "execute_result"
    }
   ],
   "source": [
    "sp.solve_univariate_inequality(f>0, x)"
   ]
  },
  {
   "cell_type": "markdown",
   "id": "f1a0c825",
   "metadata": {},
   "source": [
    "---\n",
    "---\n",
    "---"
   ]
  },
  {
   "cell_type": "code",
   "execution_count": null,
   "id": "9b4460a5",
   "metadata": {},
   "outputs": [],
   "source": []
  }
 ],
 "metadata": {
  "kernelspec": {
   "display_name": "Python 3 (ipykernel)",
   "language": "python",
   "name": "python3"
  },
  "language_info": {
   "codemirror_mode": {
    "name": "ipython",
    "version": 3
   },
   "file_extension": ".py",
   "mimetype": "text/x-python",
   "name": "python",
   "nbconvert_exporter": "python",
   "pygments_lexer": "ipython3",
   "version": "3.9.7"
  }
 },
 "nbformat": 4,
 "nbformat_minor": 5
}
